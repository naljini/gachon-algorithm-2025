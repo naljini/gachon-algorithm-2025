{
  "nbformat": 4,
  "nbformat_minor": 0,
  "metadata": {
    "colab": {
      "provenance": [],
      "toc_visible": true,
      "include_colab_link": true
    },
    "kernelspec": {
      "name": "python3",
      "display_name": "Python 3"
    },
    "language_info": {
      "name": "python"
    }
  },
  "cells": [
    {
      "cell_type": "markdown",
      "metadata": {
        "id": "view-in-github",
        "colab_type": "text"
      },
      "source": [
        "<a href=\"https://colab.research.google.com/github/naljini/gachon-algorithm-2025/blob/main/_03_%EC%A0%90%ED%99%94%EC%8B%9D%EA%B3%BC%EC%9E%AC%EA%B7%80_%EB%B0%B0%ED%8F%AC.ipynb\" target=\"_parent\"><img src=\"https://colab.research.google.com/assets/colab-badge.svg\" alt=\"Open In Colab\"/></a>"
      ]
    },
    {
      "cell_type": "markdown",
      "source": [
        "# 점화식과 재귀 알고리즘"
      ],
      "metadata": {
        "id": "n_gLhcoQe3pD"
      }
    },
    {
      "cell_type": "markdown",
      "source": [
        "\n",
        "\n",
        "---\n",
        "\n"
      ],
      "metadata": {
        "id": "5eqH6EEoRjnt"
      }
    },
    {
      "cell_type": "markdown",
      "source": [
        "# 1.알고리즘 분석을 위한 기초"
      ],
      "metadata": {
        "id": "zbK7LsGRRkmv"
      }
    },
    {
      "cell_type": "markdown",
      "source": [
        "\n",
        "\n",
        "---\n",
        "\n"
      ],
      "metadata": {
        "id": "e_21YenYRqRr"
      }
    },
    {
      "cell_type": "markdown",
      "source": [
        "## 알고리즘 효율성 분석"
      ],
      "metadata": {
        "id": "NAbiWsMhRwnZ"
      }
    },
    {
      "cell_type": "markdown",
      "source": [],
      "metadata": {
        "id": "crledlvU2t7v"
      }
    },
    {
      "cell_type": "markdown",
      "source": [
        "### @알고리즘 효율성 측정 (시간 성능 분석)"
      ],
      "metadata": {
        "id": "Nf_IthM7GSBf"
      }
    },
    {
      "cell_type": "code",
      "source": [
        "# time 모듈을 이용한 실행시간 측정\n",
        "def test(n):\n",
        "    l = []\n",
        "    for i in range(n):\n",
        "        l.append(i)\n",
        "\n",
        "import time\n",
        "start = time.time()\n",
        "test(1000)\n",
        "end = time.time()\n",
        "print(f\"실행시간 = {end-start}\")"
      ],
      "metadata": {
        "id": "c1jCuwFXGcTB"
      },
      "execution_count": null,
      "outputs": []
    },
    {
      "cell_type": "markdown",
      "source": [
        "### [실습] 성능 비교하기\n",
        "데이터를 리스트에 추가하는 다양한 방법의 성능을 측정하고 그래프로 비교해 보세요."
      ],
      "metadata": {
        "id": "ntVHc2rpFVQF"
      }
    },
    {
      "cell_type": "code",
      "source": [
        "# 1.append() 메서드\n",
        "def test1(n):\n",
        "    l = []\n",
        "    for i in range(n):\n",
        "        l.append(i)\n",
        "\n",
        "# 2.extend() 메서드\n",
        "def test2(n):\n",
        "    l = []\n",
        "    for i in range(n):\n",
        "        l.extend([i])\n",
        "\n",
        "# 3.리스트 연결 연산자\n",
        "def test3(n):\n",
        "    l = []\n",
        "    for i in range(n):\n",
        "        l = l + [i]\n",
        "\n",
        "# 4.리스트 조건제시법\n",
        "def test4(n):\n",
        "    l = [i for i in range(n)]\n",
        "\n",
        "# 5.range 객체 활용\n",
        "def test5(n):\n",
        "    l = list(range(n))"
      ],
      "metadata": {
        "id": "KkErHiTpG9M5"
      },
      "execution_count": null,
      "outputs": []
    },
    {
      "cell_type": "code",
      "source": [
        "# 코드 작성\n",
        "import time\n",
        "import random\n",
        "import matplotlib.pyplot as plt\n",
        "\n",
        "# 실행 시간 측정 함수\n",
        "def measure_time(sort_funcs, n):\n",
        "    times = []\n",
        "    for sort_func in sort_funcs:\n",
        "        start = time.time()\n",
        "        sort_func(n)\n",
        "        end = time.time()\n",
        "        times.append(end - start)\n",
        "    return times\n",
        "\n",
        "def benchmark():\n",
        "    sizes = [100, 500, 1000, 5000, 10000]\n",
        "    # sizes = [100, 500, 1000]\n",
        "    sort_funcs = [test1, test2, test3, test4, test5]\n",
        "    func_times = [[] for _ in sort_funcs]\n",
        "\n",
        "    # 실행 시간 측정\n",
        "    for size in sizes:\n",
        "        results = measure_time(sort_funcs, size)\n",
        "        for idx, val in enumerate(results):\n",
        "            func_times[idx].append(val)\n",
        "\n",
        "    # 그래프 그리기\n",
        "    plt.figure(figsize=(5, 4))\n",
        "    for idx, sort_func in enumerate(sort_funcs):\n",
        "        plt.plot(sizes, func_times[idx], label=f\"{sort_func.__name__}\", marker='o')\n",
        "\n",
        "    plt.xlabel(\"Input Size\")\n",
        "    plt.ylabel(\"Execution Time (seconds)\")\n",
        "    plt.title(\"Algorithm Time Complexity Analysis\")\n",
        "    plt.legend()\n",
        "    plt.grid(True)\n",
        "    plt.show()\n",
        "\n",
        "# 함수 호출\n",
        "benchmark()"
      ],
      "metadata": {
        "id": "Zq9UxntIGMWf"
      },
      "execution_count": null,
      "outputs": []
    },
    {
      "cell_type": "markdown",
      "source": [
        "\n",
        "\n",
        "---\n",
        "\n"
      ],
      "metadata": {
        "id": "oJUdlh5FDJkT"
      }
    },
    {
      "cell_type": "markdown",
      "source": [
        "## 복잡도 분석"
      ],
      "metadata": {
        "id": "THzIHsgrDKbH"
      }
    },
    {
      "cell_type": "markdown",
      "source": [
        "### @기본 연산(Basic Operation)"
      ],
      "metadata": {
        "id": "XzwkiIR5DNkT"
      }
    },
    {
      "cell_type": "markdown",
      "source": [
        "- 다양한 연산의"
      ],
      "metadata": {
        "id": "Hl8oyZXkDSBm"
      }
    },
    {
      "cell_type": "markdown",
      "source": [
        "\n",
        "\n",
        "---\n",
        "\n"
      ],
      "metadata": {
        "id": "WpMv6phaUkeW"
      }
    },
    {
      "cell_type": "markdown",
      "source": [
        "## 점근적 표기법"
      ],
      "metadata": {
        "id": "_6piiG_IUj9q"
      }
    },
    {
      "cell_type": "markdown",
      "source": [
        "- 점근적 표기법(Asymptotic Notation)\n",
        "    - 여러 항을 갖는 복잡도 함수를 최고차항만을 계수 없이 취해 단순하게 표현하는 방법\n",
        "    - 증가속도를 표현"
      ],
      "metadata": {
        "id": "db5gPsH3UtMl"
      }
    },
    {
      "cell_type": "markdown",
      "source": [
        "### [실습] 빅오 표기법 다양한 복잡도 함수 예"
      ],
      "metadata": {
        "id": "MRlfiOonShMS"
      }
    },
    {
      "cell_type": "code",
      "source": [
        "import math\n",
        "import itertools\n",
        "\n",
        "# O(1) - 상수 시간\n",
        "def constant_time_example(arr):\n",
        "    return arr[0]  # 배열의 첫 번째 원소 접근 (항상 일정한 시간)\n",
        "\n",
        "# O(log n) - 로그 시간 (이진 탐색)\n",
        "def log_time_example(arr, target):\n",
        "    left, right = 0, len(arr) - 1\n",
        "    while left <= right:\n",
        "        mid = (left + right) // 2\n",
        "        if arr[mid] == target:\n",
        "            return mid\n",
        "        elif arr[mid] < target:\n",
        "            left = mid + 1\n",
        "        else:\n",
        "            right = mid - 1\n",
        "    return -1  # 요소를 찾을 수 없는 경우\n",
        "\n",
        "# O(n) - 선형 시간 (리스트에서 특정 값 찾기)\n",
        "def linear_time_example(arr, target):\n",
        "    for i in range(len(arr)):\n",
        "        if arr[i] == target:\n",
        "            return i\n",
        "    return -1\n",
        "\n",
        "# O(n log n) - 퀵정렬 또는 병합정렬\n",
        "def nlogn_time_example(arr):\n",
        "    return sorted(arr)  # Timsort (Python 내장 정렬 알고리즘)\n",
        "\n",
        "# O(n^2) - 버블 정렬\n",
        "def quadratic_time_example(arr):\n",
        "    n = len(arr)\n",
        "    for i in range(n):\n",
        "        for j in range(0, n - i - 1):\n",
        "            if arr[j] > arr[j + 1]:\n",
        "                arr[j], arr[j + 1] = arr[j + 1], arr[j]\n",
        "    return arr\n",
        "\n",
        "# O(n^3) - 3중 루프 (브루트포스 트리플렛 합 찾기)\n",
        "def cubic_time_example(arr):\n",
        "    n = len(arr)\n",
        "    count = 0\n",
        "    for i in range(n):\n",
        "        for j in range(n):\n",
        "            for k in range(n):\n",
        "                if arr[i] + arr[j] + arr[k] == 0:\n",
        "                    count += 1\n",
        "    return count\n",
        "\n",
        "# O(2^n) - 피보나치 수열 (재귀)\n",
        "def exponential_time_example(n):\n",
        "    if n <= 1:\n",
        "        return n\n",
        "    return exponential_time_example(n - 1) + exponential_time_example(n - 2)\n",
        "\n",
        "# O(3^n) - 3^n 성능을 가지는 재귀 함수 예제\n",
        "def triple_exponential_example(n):\n",
        "    if n == 0:\n",
        "        return 1\n",
        "    return triple_exponential_example(n - 1) + triple_exponential_example(n - 1) + triple_exponential_example(n - 1)\n",
        "\n",
        "# O(n!) - 순열 생성 (브루트포스 탐색)\n",
        "def factorial_time_example(n):\n",
        "    return list(itertools.permutations(range(n)))  # 모든 순열을 생성\n",
        "\n",
        "# 테스트 실행\n",
        "if __name__ == \"__main__\":\n",
        "    arr = [1, 2, 3, 4, 5]\n",
        "    print(\"O(1):\", constant_time_example(arr))\n",
        "    print(\"O(log n):\", log_time_example(arr, 3))\n",
        "    print(\"O(n):\", linear_time_example(arr, 4))\n",
        "    print(\"O(n log n):\", nlogn_time_example(arr))\n",
        "    print(\"O(n^2):\", quadratic_time_example(arr))\n",
        "    print(\"O(n^3):\", cubic_time_example(arr))\n",
        "    print(\"O(2^n):\", exponential_time_example(5))\n",
        "    print(\"O(3^n):\", triple_exponential_example(5))\n",
        "    print(\"O(n!):\", len(factorial_time_example(5)))  # 생성된 순열 개수 출력\n",
        "\n"
      ],
      "metadata": {
        "id": "pjWRyzA3SkXA"
      },
      "execution_count": null,
      "outputs": []
    },
    {
      "cell_type": "markdown",
      "source": [
        "\n",
        "\n",
        "---\n",
        "\n"
      ],
      "metadata": {
        "id": "Y9K0F9oOCo-5"
      }
    },
    {
      "cell_type": "markdown",
      "source": [
        "# 2.재귀 알고리즘"
      ],
      "metadata": {
        "id": "yVCPrCuhRrPr"
      }
    },
    {
      "cell_type": "markdown",
      "source": [
        "## 점화식"
      ],
      "metadata": {
        "id": "iiOVPrQsCp7y"
      }
    },
    {
      "cell_type": "markdown",
      "source": [
        "### @점화식에서 사용되는 연산(연산 유형별 점화식 예)\n"
      ],
      "metadata": {
        "id": "33B16e18CsEQ"
      }
    },
    {
      "cell_type": "markdown",
      "source": [
        "### [실습] 피보나치의 토끼 번식 문제\n",
        "- 1년이 지난 후(13월) 전체 토끼의 쌍의 수는?     \n",
        "- 점화식은?\n",
        "- 빅오 표기법은?\n",
        "- 파이썬으로 구현 하시오."
      ],
      "metadata": {
        "id": "hEZrPFR7QUei"
      }
    },
    {
      "cell_type": "code",
      "source": [
        "# 반복문 이용\n",
        "\n"
      ],
      "metadata": {
        "id": "4xTKyzjChnBH"
      },
      "execution_count": null,
      "outputs": []
    },
    {
      "cell_type": "code",
      "source": [
        "# 재귀 호출 이용\n",
        "\n"
      ],
      "metadata": {
        "id": "VtqoY668RTVk"
      },
      "execution_count": null,
      "outputs": []
    },
    {
      "cell_type": "markdown",
      "source": [
        "\n",
        "\n",
        "---\n",
        "\n"
      ],
      "metadata": {
        "id": "jV4i0i4MRvl_"
      }
    },
    {
      "cell_type": "markdown",
      "source": [
        "## 재귀 알고리즘"
      ],
      "metadata": {
        "id": "dAF1_D2qf6Y_"
      }
    },
    {
      "cell_type": "markdown",
      "source": [
        "### @순환 호출\n",
        "- 팩토리얼(factorial)"
      ],
      "metadata": {
        "id": "2MtkMY5xf-09"
      }
    },
    {
      "cell_type": "code",
      "execution_count": null,
      "metadata": {
        "id": "N1iTsKY7eqnI"
      },
      "outputs": [],
      "source": [
        "def factorial(n):\n",
        "    if n == 1: return 1\n",
        "    return n*factorial(n-1)\n",
        "\n",
        "factorial(3)"
      ]
    },
    {
      "cell_type": "markdown",
      "source": [
        "- 하노이의 탑"
      ],
      "metadata": {
        "id": "2Oh83x6pgKEx"
      }
    },
    {
      "cell_type": "code",
      "source": [
        "cnt = 0 #  원판 옮긴 횟수\n",
        "def moveHanoi_1(n, start, end):\n",
        "    global cnt\n",
        "    other = 6 - (start+end)  # 보조 기둥 번호,  계산식: 1+2+3 = 6\n",
        "    if n == 1:\n",
        "        print(f'{n} 번 디스크: {start} --> {end} 이동')\n",
        "        cnt += 1\n",
        "        return 0\n",
        "    else:\n",
        "        moveHanoi_1(n-1, start, other)\n",
        "        print(f'{n} 번 디스크: {start} --> {end} 이동')\n",
        "        cnt += 1\n",
        "        moveHanoi_1(n-1, other, end)\n",
        "\n",
        "num = int(input('원판 개수: '))\n",
        "moveHanoi_1(num, 1, 3)   # 원판개수, start기둥, end기둥\n",
        "print(f'원판 옮긴 횟수: {cnt}')"
      ],
      "metadata": {
        "collapsed": true,
        "id": "M7N31U5AgLv1"
      },
      "execution_count": null,
      "outputs": []
    },
    {
      "cell_type": "markdown",
      "source": [
        "### [실습] 재귀 알고리즘 적용하기"
      ],
      "metadata": {
        "id": "IxheLKeqnSRH"
      }
    },
    {
      "cell_type": "markdown",
      "source": [
        "- countdown(n) : 5->4->3->2->1->'발사' 순서로 출력하기"
      ],
      "metadata": {
        "id": "FLpy__ALnXYA"
      }
    },
    {
      "cell_type": "code",
      "source": [
        "# Countdown : 5->4->3->2->1->'발사' 순서로 출력하기)\n",
        "\n"
      ],
      "metadata": {
        "id": "ENgTnlEznSwg"
      },
      "execution_count": null,
      "outputs": []
    },
    {
      "cell_type": "markdown",
      "source": [
        "- printStar(n) : 별 모양 출력하기"
      ],
      "metadata": {
        "id": "SfY7V754nhGq"
      }
    },
    {
      "cell_type": "code",
      "source": [
        "'''\n",
        "*\n",
        "**\n",
        "***\n",
        "****\n",
        "*****\n",
        "'''\n",
        "star='⭐'\n",
        "\n"
      ],
      "metadata": {
        "id": "kuljO-xJnt82"
      },
      "execution_count": null,
      "outputs": []
    },
    {
      "cell_type": "markdown",
      "source": [
        "- addNumber(n) : 1~10까지 합계 구하기"
      ],
      "metadata": {
        "id": "9Le0SWPlnjwO"
      }
    },
    {
      "cell_type": "code",
      "source": [
        "def addNumber(n):\n",
        "\n",
        "\n",
        "print( addNumber(10) )"
      ],
      "metadata": {
        "id": "PFSKGv1cnuUn"
      },
      "execution_count": null,
      "outputs": []
    },
    {
      "cell_type": "markdown",
      "source": [
        "- sum_range(start, end) : 임의의 두 수 사이의 정수 합계 구하기 (1~100 정수)"
      ],
      "metadata": {
        "id": "aOFeb0yrnpUP"
      }
    },
    {
      "cell_type": "code",
      "source": [
        "def sum_range(a, b):\n",
        "\n",
        "\n",
        "\n",
        "\n",
        "print(f'{a} ~ {b} 사이의 숫자합 = {sum_range(a, b)}')"
      ],
      "metadata": {
        "id": "L-p5L3QZnuyM"
      },
      "execution_count": null,
      "outputs": []
    },
    {
      "cell_type": "markdown",
      "source": [
        "- reverse(s) : 문자열 뒤집기  "
      ],
      "metadata": {
        "id": "S6GJDloRnrpE"
      }
    },
    {
      "cell_type": "code",
      "source": [
        "def reverse(s):\n",
        "\n",
        "\n",
        "\n",
        "s = input('문자열 입력: ')\n",
        "print( reverse(s) )"
      ],
      "metadata": {
        "id": "udEHXKvMnvU_"
      },
      "execution_count": null,
      "outputs": []
    },
    {
      "cell_type": "markdown",
      "source": [
        "\n",
        "\n",
        "---\n",
        "\n"
      ],
      "metadata": {
        "id": "gqfslcQrtjGq"
      }
    },
    {
      "cell_type": "markdown",
      "source": [
        "## 재귀 응용"
      ],
      "metadata": {
        "id": "kv_ihLpWtkdv"
      }
    },
    {
      "cell_type": "markdown",
      "metadata": {
        "id": "4dca0469-b8d9-45fc-b581-d21258ccb817"
      },
      "source": [
        "### @회문(Palindrome)여부 판단하기\n",
        "- 회문(Palindrome): 앞에서부터 읽든, 뒤에서부터  읽든 동일한 단어나 문장을 의미"
      ]
    },
    {
      "cell_type": "code",
      "execution_count": null,
      "metadata": {
        "id": "bf6d7ab1-8ad1-455a-8350-612d78aa1937"
      },
      "outputs": [],
      "source": [
        "# 회문 테스트용 문자열\n",
        "strings = ['level','radar','kayak','I prefer pi',\n",
        "         '기러기','일요일','주유소의 소유주','야 너 이번 주 주번이 너야']\n",
        "strings = ['reaver', 'level','기러기','살금 살금']"
      ]
    },
    {
      "cell_type": "markdown",
      "metadata": {
        "id": "740cd599-43d9-41b8-ae2b-705a984eef07"
      },
      "source": [
        "### [실습문제] 문자열 회문 여부 판단하기"
      ]
    },
    {
      "cell_type": "code",
      "execution_count": null,
      "metadata": {
        "id": "6c572689-b315-4173-865b-86c47cbec6fe"
      },
      "outputs": [],
      "source": [
        "# 1.리스트 인덱스를 이용한 체크\n",
        "def is_palindrome(tStrings):  # 회문 여부 판별\n",
        "    for tStr in tStrings:\n",
        "        tStr = tStr.lower().replace(' ','')  # 소문자->공백제거\n",
        "        if  :               # 역순정렬\n",
        "            print(f\"{tStr}\\t--> True\")\n",
        "        else:\n",
        "            print(f\"{tStr}\\t--> False\")\n",
        "\n",
        "is_palindrome(['reaver', 'level','기러기','살금 살금'])"
      ]
    },
    {
      "cell_type": "markdown",
      "metadata": {
        "id": "332423bf-c847-4c2f-ab8b-74898e4933b5"
      },
      "source": [
        "### [실습문제] 문자열 회문여부 판단하기(재귀 알고리즘 사용)"
      ]
    },
    {
      "cell_type": "code",
      "execution_count": null,
      "metadata": {
        "id": "96811845-b175-43b6-af38-61e12ff848db"
      },
      "outputs": [],
      "source": [
        "# 2.재귀 알고리즘 사용\n",
        "def palindrome(tStr):         # 재귀방법으로 회문 여부 체크\n",
        "\n",
        "\n",
        "\n",
        "def is_palindrome(tStrings):  # 회문 여부 판별\n",
        "    for tStr in tStrings:                    # 문자열 하나씩 읽기\n",
        "        tStr = tStr.lower().replace(' ','')  # 소문자->공백제거\n",
        "        if palindrome(tStr):                 # 판별 함수 호출\n",
        "            print(f\"{tStr} --> True\")\n",
        "        else:\n",
        "            print(f\"{tStr} --> False\")\n",
        "\n",
        "is_palindrome(['reaver', 'level','기러기','살금 살금'])"
      ]
    },
    {
      "cell_type": "markdown",
      "metadata": {
        "id": "2f349b56-10e6-4dcd-afe5-e49a68ccc6c9"
      },
      "source": [
        "-----------------------"
      ]
    },
    {
      "cell_type": "markdown",
      "metadata": {
        "id": "1e3c4131-6314-4657-81f6-941971f5a9fe"
      },
      "source": [
        "### 2-2. 프랙탈 그리기"
      ]
    },
    {
      "cell_type": "markdown",
      "metadata": {
        "id": "3762320d-99f8-481a-930a-0a4b23b11924"
      },
      "source": [
        "### [실습문제] 코흐 곡선(Koch Curve) 그리기\n",
        "[주의!] turtle 모듈은 PC python IDLE 툴에서 안정적으로 작동한다."
      ]
    },
    {
      "cell_type": "code",
      "execution_count": null,
      "metadata": {
        "id": "b002edad-fd9c-4ffc-9eb2-01a42f3e932a"
      },
      "outputs": [],
      "source": [
        "import turtle\n",
        "\n",
        "def koch_curve(t, order, size):\n",
        "    \"\"\"\n",
        "    t: 터틀 객체\n",
        "    order: 재귀 횟수\n",
        "    size: 선분 길이\n",
        "    \"\"\"\n",
        "\n",
        "\n",
        "\n",
        "def draw_koch_curve(order, size):\n",
        "    t = turtle.Turtle()\n",
        "    t.speed(0)      # 최대 속도로 그리기\n",
        "    t.penup()\n",
        "    t.goto(-200,0)  # 좌표 이동\n",
        "    t.pendown()\n",
        "\n",
        "    koch_curve(t, order, size)   # 그리기(터틀) 객체, 재귀호출 횟수, 변길이\n",
        "\n",
        "# 코흐 커브 생성\n",
        "draw_koch_curve(order=4, size=400)\n",
        "turtle.exitonclick()\n"
      ]
    },
    {
      "cell_type": "markdown",
      "metadata": {
        "id": "4330b95b-9496-4969-a5a7-5e5e43db8142"
      },
      "source": [
        "### [실습문제] 시에르핀스키 삼각형"
      ]
    },
    {
      "cell_type": "code",
      "execution_count": null,
      "metadata": {
        "id": "6c060dda-6dab-498c-8adb-d4143c22f1ac"
      },
      "outputs": [],
      "source": [
        "\n",
        "\n"
      ]
    },
    {
      "cell_type": "markdown",
      "source": [
        "\n",
        "\n",
        "---\n",
        "\n"
      ],
      "metadata": {
        "id": "jXyhU2fT2Xgo"
      }
    }
  ]
}