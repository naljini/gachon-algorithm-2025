{
  "nbformat": 4,
  "nbformat_minor": 0,
  "metadata": {
    "colab": {
      "provenance": [],
      "toc_visible": true,
      "include_colab_link": true
    },
    "kernelspec": {
      "name": "python3",
      "display_name": "Python 3"
    },
    "language_info": {
      "name": "python"
    }
  },
  "cells": [
    {
      "cell_type": "markdown",
      "metadata": {
        "id": "view-in-github",
        "colab_type": "text"
      },
      "source": [
        "<a href=\"https://colab.research.google.com/github/naljini/gachon-algorithm-2025/blob/main/_01_%EC%95%8C%EA%B3%A0%EB%A6%AC%EC%A6%98%EA%B0%9C%EC%9A%94_%EC%99%84%EC%84%B1.ipynb\" target=\"_parent\"><img src=\"https://colab.research.google.com/assets/colab-badge.svg\" alt=\"Open In Colab\"/></a>"
      ]
    },
    {
      "cell_type": "markdown",
      "source": [
        "# 알고리즘 개요"
      ],
      "metadata": {
        "id": "N6FNqj2c1yBL"
      }
    },
    {
      "cell_type": "markdown",
      "source": [
        "\n",
        "\n",
        "---\n",
        "\n"
      ],
      "metadata": {
        "id": "LhvO_-dc-D-4"
      }
    },
    {
      "cell_type": "markdown",
      "source": [
        "## 1.알고리즘이란?"
      ],
      "metadata": {
        "id": "-wuIGjaL9LFb"
      }
    },
    {
      "cell_type": "markdown",
      "source": [
        "*알고리즘 정의를 입력하세요*"
      ],
      "metadata": {
        "id": "2pJC6ziOwfo1"
      }
    },
    {
      "cell_type": "markdown",
      "source": [
        "\n",
        "\n",
        "---\n",
        "\n"
      ],
      "metadata": {
        "id": "4zO6_l6kwp7g"
      }
    },
    {
      "cell_type": "markdown",
      "source": [
        "## 2.알고리즘 성능 분석의 필요성"
      ],
      "metadata": {
        "id": "cnWfrgJdwPga"
      }
    },
    {
      "cell_type": "markdown",
      "source": [
        "- 동일한 문제를 해결하는 다양한 알고리즘이 존재\n",
        "- 빠른 알고리즘을 선택하면 실행 속도를 크게 단축 가능\n",
        "- 컴퓨터 자원을 효율적으로 활용"
      ],
      "metadata": {
        "id": "I5jJP4P2zAUp"
      }
    },
    {
      "cell_type": "markdown",
      "source": [
        "\n",
        "\n",
        "---\n",
        "\n"
      ],
      "metadata": {
        "id": "k9WssvTVw8Aw"
      }
    },
    {
      "cell_type": "markdown",
      "source": [
        "## 3.알고리즘 성능 분석 방법\n",
        "- **연산량**： 알고리즘이 얼마나 적은 연산을 수행하는가?\n",
        "- **메모리 사용량**： 얼마나 적은 메모리 공간을 사용하는가?"
      ],
      "metadata": {
        "id": "8soCOUQx9q-7"
      }
    },
    {
      "cell_type": "markdown",
      "source": [
        "### **@연산량 확인 방법**"
      ],
      "metadata": {
        "id": "o4iJLuE19yyK"
      }
    },
    {
      "cell_type": "markdown",
      "source": [
        "|연산량 확인 방법|설명|주요 도구|\n",
        "|----|----|----|\n",
        "|연산 횟수 직접 카운팅 |특정 코드에서 연산 횟수를 직접 세어 연산량을 측정 | 변수 사용 (count += 1)|\n",
        "|Big-O 분석을 위한 타이머 활용 | 실행 시간을 여러 입력 크기에 대해 측정하여 시간 복잡도 분석 | time 모듈 (time.time()) |\n",
        "|프로파일링 도구 활용 | 함수 실행 횟수, 실행 시간 분석 | cProfile, line-profiler |\n",
        "|CPU 사용량 확인 |연산량이 CPU 사용률에 미치는 영향 분석 | psutil.cpu_percent() |\n",
        "\n"
      ],
      "metadata": {
        "id": "R27ikXIRpRXo"
      }
    },
    {
      "cell_type": "markdown",
      "source": [
        "#### **1) 연산 횟수 직접 카운팅** **굵은 텍스트**\n",
        "알고리즘 내에서 수행되는 주요 연산(반복문, 재귀 호출, 비교 연산 등)의 횟수 센다.</br>**(전역 변수 or 데코레이터 활용)**"
      ],
      "metadata": {
        "id": "VZLhE4DjBJEe"
      }
    },
    {
      "cell_type": "code",
      "source": [
        "# 버블 정렬의 연산 횟수 측정\n",
        "import random\n",
        "\n",
        "count = 0  # 연산 횟수 카운트\n",
        "\n",
        "def bubble_sort(arr):\n",
        "    global count\n",
        "    n = len(arr)\n",
        "    for i in range(n):\n",
        "        for j in range(0, n-i-1):\n",
        "            count += 1  # 비교 연산 횟수 증가\n",
        "            if arr[j] > arr[j+1]:\n",
        "                arr[j], arr[j+1] = arr[j+1], arr[j]\n",
        "\n",
        "arr = [random.randint(0, 100) for _ in range(10)]\n",
        "print(arr)\n",
        "bubble_sort(arr)\n",
        "print(f\"Total Operations: {count}\")"
      ],
      "metadata": {
        "id": "8TKngIYd-Auv"
      },
      "execution_count": null,
      "outputs": []
    },
    {
      "cell_type": "markdown",
      "source": [
        "#### **2) Big-O 분석을 위한 타이머 활용**\n",
        "정렬 알고리즘의 실행 시간을 여러 크기의 입력에서 측정하여 Big-O 복잡도(O(n²), O(n log n) 등)를 분석할 수 있다."
      ],
      "metadata": {
        "id": "7yxGDwoFALSa"
      }
    },
    {
      "cell_type": "code",
      "source": [
        "# 정렬 알고리즘의 시간 복잡도 비교\n",
        "import time\n",
        "import random\n",
        "\n",
        "def measure_time(sort_function, size):\n",
        "    arr = [random.randint(0, 10000) for _ in range(size)]\n",
        "    start = time.time()  # 시간 측정 시작\n",
        "    sort_function(arr)\n",
        "    end = time.time()    # 시간 측정 종료\n",
        "    return end - start\n",
        "\n",
        "sizes = [100, 500, 1000, 5000]\n",
        "for size in sizes:\n",
        "    print(f\"Size {size}: Bubble Sort = {measure_time(bubble_sort, size):.6f} sec\")\n"
      ],
      "metadata": {
        "id": "HD4Liw-p-BKa"
      },
      "execution_count": null,
      "outputs": []
    },
    {
      "cell_type": "markdown",
      "source": [
        "- 그래프로 표현"
      ],
      "metadata": {
        "id": "VXfool1yKt8C"
      }
    },
    {
      "cell_type": "code",
      "source": [
        "import time\n",
        "import random\n",
        "import matplotlib.pyplot as plt\n",
        "\n",
        "def measure_time(sort_function, sizes):\n",
        "    times = []\n",
        "    for size in sizes:\n",
        "        arr = [random.randint(0, 10000) for _ in range(size)]\n",
        "        start = time.time()\n",
        "        sort_function(arr)\n",
        "        end = time.time()\n",
        "        times.append(end - start)\n",
        "    return times\n",
        "\n",
        "sizes = [100, 500, 1000, 2000, 3000, 4000, 5000]\n",
        "bubble_times = measure_time(bubble_sort, sizes)\n",
        "plt.plot(sizes, bubble_times, label=\"Bubble Sort\", marker='o')\n",
        "plt.xlabel(\"Input Size\")\n",
        "plt.ylabel(\"Execution Time (seconds)\")\n",
        "plt.legend()\n",
        "plt.title(\"Algorithm Complexity Analysis\")\n",
        "plt.show()\n"
      ],
      "metadata": {
        "id": "tQuahsd3KpQE"
      },
      "execution_count": null,
      "outputs": []
    },
    {
      "cell_type": "markdown",
      "source": [
        "#### **3) 프로파일링 도구 활용**\n",
        "cProfile: 각 함수가 몇 번 호출되었는지와 실행 시간을 출력해 준다."
      ],
      "metadata": {
        "id": "ikJENMqa9958"
      }
    },
    {
      "cell_type": "code",
      "source": [
        "# cProfile을 이용한 함수 호출 수 측정\n",
        "import cProfile\n",
        "\n",
        "def test_function():\n",
        "    total = 0\n",
        "    for i in range(1000000):\n",
        "        total += i\n",
        "    return total\n",
        "\n",
        "cProfile.run('test_function()')\n"
      ],
      "metadata": {
        "id": "PjRVtMxCI8Ik"
      },
      "execution_count": null,
      "outputs": []
    },
    {
      "cell_type": "markdown",
      "source": [
        "- line_profiler: 코드 라인별 연산량 확인"
      ],
      "metadata": {
        "id": "Y8VO7NphN8TW"
      }
    },
    {
      "cell_type": "code",
      "source": [
        "!pip install line-profiler"
      ],
      "metadata": {
        "id": "uwR71iaQN7UL"
      },
      "execution_count": null,
      "outputs": []
    },
    {
      "cell_type": "code",
      "source": [
        "from line_profiler import LineProfiler\n",
        "\n",
        "def test_function():\n",
        "    total = 0\n",
        "    for i in range(1000000):  # 연산량이 많은 부분\n",
        "        total += i\n",
        "    return total\n",
        "\n",
        "lp = LineProfiler()\n",
        "lp.add_function(test_function)\n",
        "\n",
        "lp.enable()   # LineProfiler: 시작\n",
        "test_function()\n",
        "lp.disable()  # LineProfiler: 종료\n",
        "\n",
        "lp.print_stats()\n"
      ],
      "metadata": {
        "id": "p_cqYc9sN3ns"
      },
      "execution_count": null,
      "outputs": []
    },
    {
      "cell_type": "markdown",
      "source": [
        "#### **4) CPU 사용량 확인**"
      ],
      "metadata": {
        "id": "5hnDP542Sw4K"
      }
    },
    {
      "cell_type": "code",
      "source": [
        "import psutil\n",
        "import time\n",
        "\n",
        "def test_function():\n",
        "    total = 0\n",
        "    for i in range(1000000):\n",
        "        total += i\n",
        "    return total\n",
        "\n",
        "# CPU 및 메모리 사용량 측정\n",
        "process = psutil.Process()\n",
        "start_cpu = process.cpu_percent(interval=None)\n",
        "\n",
        "start_time = time.time()\n",
        "test_function()\n",
        "end_time = time.time()\n",
        "\n",
        "end_cpu = process.cpu_percent(interval=None)\n",
        "\n",
        "print(f\"Execution Time: {end_time - start_time:.6f} seconds\")\n",
        "print(f\"CPU Usage: {end_cpu:.2f}%\")\n"
      ],
      "metadata": {
        "id": "FG8UNFMmSxDy"
      },
      "execution_count": null,
      "outputs": []
    },
    {
      "cell_type": "markdown",
      "source": [
        "### [실습문제] 정렬 알고리즘 시간 성능 분석\n",
        "- bubble_sort, merge_sort, builtin_sort  사용\n",
        "- sizes =  [100, 500, 1000, 5000, 10000] 임의의 정수 사용\n",
        "- 각 알고리즘의 실행 시간(time) 측정하여 하나의 그래프에 시각화하기"
      ],
      "metadata": {
        "id": "0kAgdZjVH1MA"
      }
    },
    {
      "cell_type": "code",
      "source": [
        "# 정렬 알고리즘들 (문자열 정렬을 위해 수정 필요)\n",
        "def bubble_sort(arr):\n",
        "    n = len(arr)\n",
        "    for i in range(n):\n",
        "        for j in range(0, n-i-1):\n",
        "            if arr[j] > arr[j+1]:\n",
        "                arr[j], arr[j+1] = arr[j+1], arr[j]\n",
        "\n",
        "def merge_sort(arr):\n",
        "    if len(arr) <= 1:\n",
        "        return arr\n",
        "\n",
        "    mid = len(arr) // 2\n",
        "    left = merge_sort(arr[:mid])\n",
        "    right = merge_sort(arr[mid:])\n",
        "\n",
        "    return merge(left, right)\n",
        "\n",
        "def merge(left, right):\n",
        "    result = []\n",
        "    i = j = 0\n",
        "\n",
        "    while i < len(left) and j < len(right):\n",
        "        if left[i] <= right[j]:\n",
        "            result.append(left[i])\n",
        "            i += 1\n",
        "        else:\n",
        "            result.append(right[j])\n",
        "            j += 1\n",
        "\n",
        "    result.extend(left[i:])\n",
        "    result.extend(right[j:])\n",
        "    return result\n",
        "\n",
        "def builtin_sort(arr):\n",
        "    return sorted(arr)\n"
      ],
      "metadata": {
        "id": "474QRi6BCOd4"
      },
      "execution_count": null,
      "outputs": []
    },
    {
      "cell_type": "code",
      "source": [
        "# 코드 작성\n",
        "import time\n",
        "import random\n",
        "import matplotlib.pyplot as plt\n",
        "\n",
        "# 시간 측정 함수\n",
        "def measure_time(sort_funcs, arr):\n",
        "    times = []\n",
        "    for sort_func in sort_funcs:\n",
        "        arr_copy = arr[:]  # 원본 배열 보호 (정렬 후 배열이 바뀌므로 복사)\n",
        "        start = time.time()\n",
        "        sort_func(arr_copy)\n",
        "        end = time.time()\n",
        "        times.append(end - start)\n",
        "    return times\n",
        "\n",
        "\n",
        "# 벤치마크 함수\n",
        "def benchmark():\n",
        "    sizes = [100, 500, 1000, 4000, 5000, 10000]\n",
        "    sort_funcs = [bubble_sort, merge_sort, builtin_sort]\n",
        "    func_times = [[] for _ in sort_funcs]  # 동적 리스트 생성\n",
        "\n",
        "    # 실행 시간 측정\n",
        "    for size in sizes:\n",
        "        arr = [random.randint(0, 10000) for _ in range(size)]\n",
        "        results = measure_time(sort_funcs, arr)\n",
        "        for idx, val in enumerate(results):\n",
        "            func_times[idx].append(val)\n",
        "\n",
        "    # 그래프 그리기\n",
        "    plt.figure(figsize=(8, 6))\n",
        "    for idx, sort_func in enumerate(sort_funcs):\n",
        "        plt.plot(sizes, func_times[idx], label=f\"{sort_func.__name__}\", marker='o')\n",
        "\n",
        "    plt.xlabel(\"Input Size\")\n",
        "    plt.ylabel(\"Execution Time (seconds)\")\n",
        "    plt.title(\"Algorithm Time Complexity Analysis\")\n",
        "    plt.legend()\n",
        "    plt.grid(True)\n",
        "    plt.show()\n",
        "\n",
        "\n",
        "# 함수 호출\n",
        "benchmark()\n"
      ],
      "metadata": {
        "id": "FIp4q--J-N16"
      },
      "execution_count": null,
      "outputs": []
    },
    {
      "cell_type": "markdown",
      "source": [
        "\n",
        "\n",
        "---\n",
        "\n"
      ],
      "metadata": {
        "id": "uMNchdPZt6qY"
      }
    },
    {
      "cell_type": "markdown",
      "source": [
        "### @메모리 사용량 확인 방법"
      ],
      "metadata": {
        "id": "X1uN7Uf7ROUU"
      }
    },
    {
      "cell_type": "markdown",
      "source": [
        "\n",
        " |메모리 사용량 확인 방법 | 설명 | 주요 도구 |\n",
        " |--------- |---------- |----- |\n",
        "|(전체 프로세스)메모리 사용량 측정 | 현재 실행 중인 프로세스가 사용하는 전체 메모리 크기 확인  | psutil.memory_info()  |\n",
        "|(코드 라인별)메모리 사용량 측정 | 특정 코드 라인에서 사용된 메모리 크기를 분석하여 가장 많은 메모리를 차지하는 부분 확인 |memory_profiler |\n",
        "|메모리 사용량 추적 | 프로그램 실행 중 메모리 변화량을 추적하여 메모리 증가 여부 분석 |tracemalloc |\n",
        "|Garbage Collector 메모리 수거 확인|Python이 자동으로 해제하지 않은 메모리를 강제로 수거하여 메모리 최적화 확인 |  gc (Garbage Collector)|\n",
        "\n"
      ],
      "metadata": {
        "id": "wqgfgi7acVMP"
      }
    },
    {
      "cell_type": "markdown",
      "source": [
        "#### 1.(전체 프로세스)메모리 사용량 측정"
      ],
      "metadata": {
        "id": "n5AOjP0dRO-o"
      }
    },
    {
      "cell_type": "code",
      "source": [
        "import psutil\n",
        "import time\n",
        "\n",
        "def memory_intensive_function():\n",
        "    data = [i for i in range(10**7)]  # 큰 리스트 생성\n",
        "    return sum(data)\n",
        "\n",
        "# 현재 프로세스의 메모리 사용량 측정\n",
        "# - rss:Resident Set Size, 현재 프로세스가 실제로 물리적 RAM에서 차지하고 있는 메모리 크기\n",
        "process = psutil.Process()\n",
        "start_memory = process.memory_info().rss / (1024 * 1024)  # MB 단위\n",
        "\n",
        "start_time = time.time()\n",
        "memory_intensive_function()\n",
        "end_time = time.time()\n",
        "\n",
        "end_memory = process.memory_info().rss / (1024 * 1024)  # MB 단위\n",
        "\n",
        "print(f\"Memory Usage Before: {start_memory:.2f} MB\")\n",
        "print(f\"Memory Usage After: {end_memory:.2f} MB\")\n",
        "print(f\"Memory Increased: {end_memory - start_memory:.2f} MB\")\n",
        "print(f\"Execution Time: {end_time - start_time:.6f} sec\")\n"
      ],
      "metadata": {
        "id": "q9mZ_uXyRPGK"
      },
      "execution_count": null,
      "outputs": []
    },
    {
      "cell_type": "markdown",
      "source": [
        "#### 2.(코드 라인별)메모리 사용량 측정"
      ],
      "metadata": {
        "id": "a4sf9kd-pw8W"
      }
    },
    {
      "cell_type": "code",
      "source": [
        "!pip install memory_profiler"
      ],
      "metadata": {
        "id": "0G_C7Jf_q5LE"
      },
      "execution_count": null,
      "outputs": []
    },
    {
      "cell_type": "code",
      "source": [
        "from memory_profiler import memory_usage\n",
        "import time\n",
        "\n",
        "def memory_intensive_function():\n",
        "    data = [i for i in range(10**6)]  # 큰 리스트 생성\n",
        "    total = sum(data)\n",
        "    return total\n",
        "\n",
        "# 메모리 사용량 측정\n",
        "mem_usage, _ = memory_usage((memory_intensive_function, ), interval=0.1, retval=True)\n",
        "print(f\"Peak Memory Usage: {max(mem_usage):.2f} MB\")\n"
      ],
      "metadata": {
        "id": "idzVA1OLrbaL"
      },
      "execution_count": null,
      "outputs": []
    },
    {
      "cell_type": "code",
      "source": [
        "'''\n",
        "이 코드는 코랩에서는 IPython 환경과 호환되지 않아서 오류가 발생함\n",
        "PC 파이썬 인터프리터에서 실행\n",
        "- 각 코드 라인이 얼마나 많은 메모리를 사용하는지 확인 가능\n",
        "'''\n",
        "from memory_profiler import profile\n",
        "\n",
        "@profile\n",
        "def memory_intensive_function():\n",
        "    data = [i for i in range(10**6)]  # 큰 리스트 생성\n",
        "    total = sum(data)\n",
        "    return total\n",
        "\n",
        "memory_intensive_function()\n"
      ],
      "metadata": {
        "id": "acPq8nYcRPKO"
      },
      "execution_count": null,
      "outputs": []
    },
    {
      "cell_type": "markdown",
      "source": [
        "#### 3.메모리 사용량 추적"
      ],
      "metadata": {
        "id": "SXrKDySEpzuA"
      }
    },
    {
      "cell_type": "code",
      "source": [
        "'''\n",
        "메모리 증가량을 추적하고, 프로그램이 가장 많은 메모리를 사용할 때를 확인 가능\n",
        "'''\n",
        "import tracemalloc\n",
        "\n",
        "def memory_intensive_function():\n",
        "    data = [i for i in range(10**6)]  # 큰 리스트 생성\n",
        "    return sum(data)\n",
        "\n",
        "# 메모리 사용량 추적 시작\n",
        "tracemalloc.start()\n",
        "\n",
        "memory_intensive_function()\n",
        "\n",
        "# 메모리 사용량 확인\n",
        "current, peak = tracemalloc.get_traced_memory()\n",
        "print(f\"Current memory usage: {current / (1024 * 1024):.2f} MB\")\n",
        "print(f\"Peak memory usage: {peak / (1024 * 1024):.2f} MB\")\n",
        "\n",
        "# 메모리 추적 종료\n",
        "tracemalloc.stop()\n"
      ],
      "metadata": {
        "id": "cxZZ4EL_p0bO"
      },
      "execution_count": null,
      "outputs": []
    },
    {
      "cell_type": "markdown",
      "source": [
        "#### 4.Garbage Collector 메모리 수거 확인"
      ],
      "metadata": {
        "id": "zmOWMHGtp0kg"
      }
    },
    {
      "cell_type": "code",
      "source": [
        "import gc\n",
        "import psutil\n",
        "\n",
        "def create_large_data():\n",
        "    return [i for i in range(10**6)]  # 큰 리스트 생성\n",
        "\n",
        "process = psutil.Process()\n",
        "print(f\"Memory Before: {process.memory_info().rss / (1024 * 1024):.2f} MB\")\n",
        "\n",
        "data = create_large_data()\n",
        "\n",
        "print(f\"Memory After: {process.memory_info().rss / (1024 * 1024):.2f} MB\")\n",
        "\n",
        "del data  # 메모리 해제\n",
        "gc.collect()  # 가비지 컬렉션 실행\n",
        "\n",
        "print(f\"Memory After GC: {process.memory_info().rss / (1024 * 1024):.2f} MB\")\n"
      ],
      "metadata": {
        "id": "i3FzK4utp0t-"
      },
      "execution_count": null,
      "outputs": []
    },
    {
      "cell_type": "markdown",
      "source": [
        "\n",
        "\n",
        "---\n",
        "\n"
      ],
      "metadata": {
        "id": "pT9bZDC_t3EF"
      }
    },
    {
      "cell_type": "markdown",
      "source": [
        "### [실습문제] 정렬 알고리즘 성능 분석 (시간, 메모리)\n",
        "- bubble_sort, merge_sort, builtin_sort  사용\n",
        "- sizes =  [100, 500, 1000, 5000, 10000] 임의의 정수 사용\n",
        "- 실행 시간(time), 전체 메모리 사용량 측정하여  그래프에 시각화하기"
      ],
      "metadata": {
        "id": "uJD8N1WQJX0C"
      }
    },
    {
      "cell_type": "code",
      "source": [
        "# 코드 작성\n",
        "import time\n",
        "import random\n",
        "import matplotlib.pyplot as plt\n",
        "import psutil\n",
        "import gc  # 가비지 컬렉션 추가\n",
        "\n",
        "# 현재 프로세스의 메모리 사용량 측정\n",
        "# - rss:Resident Set Size, 현재 프로세스가 실제로 물리적 RAM에서 차지하고 있는 메모리 크기\n",
        "process = psutil.Process()\n",
        "\n",
        "\n",
        "# 실행 시간, 메모리 사용량 측정 함수\n",
        "def measure_time(sort_funcs, arr):\n",
        "    times = []\n",
        "    memorys = []\n",
        "    for sort_func in sort_funcs:\n",
        "        # 측정 전 가비지 컬렉션 실행\n",
        "        gc.collect()\n",
        "\n",
        "        arr_copy = arr[:]  # 원본 배열 보호 (정렬 후 배열이 바뀌므로 복사)\n",
        "\n",
        "        start_memory = process.memory_info().rss / (1024 * 1024)  # MB 단위\n",
        "\n",
        "        start = time.time()\n",
        "        sort_func(arr_copy)\n",
        "        end = time.time()\n",
        "\n",
        "        end_memory = process.memory_info().rss / (1024 * 1024)  # MB 단위\n",
        "\n",
        "        times.append(end - start)\n",
        "        memorys.append(end_memory - start_memory)\n",
        "\n",
        "        # 측정 후 명시적으로 변수 삭제\n",
        "        del arr_copy\n",
        "        gc.collect()\n",
        "\n",
        "    return times, memorys\n",
        "\n",
        "\n",
        "\n",
        "# 벤치마크 함수\n",
        "def benchmark():\n",
        "    sizes = [100, 500, 1000, 5000, 10000]\n",
        "    sort_funcs = [bubble_sort, merge_sort, builtin_sort]\n",
        "    func_times = [[] for _ in sort_funcs]  # 동적 리스트 생성\n",
        "    func_memorys = [[] for _ in sort_funcs]\n",
        "\n",
        "    # 실행 시간 측정\n",
        "    for size in sizes:\n",
        "        arr = [random.randint(0, 10000) for _ in range(size)]\n",
        "        time_results,  memory_results = measure_time(sort_funcs, arr)\n",
        "        for idx, val in enumerate(time_results):\n",
        "            func_times[idx].append(val)\n",
        "            func_memorys[idx].append(memory_results[idx])\n",
        "\n",
        "\n",
        "    # 그래프 그리기 : 서브플롯 생성 (1행 2열)\n",
        "    fig, axes = plt.subplots(1, 2, figsize=(12, 5))  # 1행 2열의 그래프\n",
        "    ax1, ax2 = axes  # 첫 번째 축 (실행 시간), 두 번째 축 (메모리 사용량)\n",
        "    for idx, sort_func in enumerate(sort_funcs):\n",
        "        ax1.plot(sizes, func_times[idx], label=f\"{sort_func.__name__}\", marker='o')\n",
        "        ax2.plot(sizes, func_memorys[idx], label=f\"{sort_func.__name__}\", marker='o')\n",
        "\n",
        "    ax1.set_xlabel(\"Input Size\")\n",
        "    ax1.set_ylabel(\"Execution Time (seconds)\")\n",
        "    ax1.set_title(\"Algorithm Time Complexity Analysis\")\n",
        "    ax1.legend()\n",
        "\n",
        "    ax2.set_xlabel(\"Input Size\")\n",
        "    ax2.set_ylabel(\"Memory Usage (MB)\")\n",
        "    ax2.set_title(\"Algorithm MemoryUsage Complexity Analysis\")\n",
        "    ax2.legend()\n",
        "    plt.show()\n",
        "\n",
        "\n",
        "# 함수 호출\n",
        "benchmark()"
      ],
      "metadata": {
        "id": "WZw035BbHZM9"
      },
      "execution_count": null,
      "outputs": []
    },
    {
      "cell_type": "markdown",
      "source": [
        "- **문자열 데이터 사용**"
      ],
      "metadata": {
        "id": "mdmmAzxB8imi"
      }
    },
    {
      "cell_type": "code",
      "source": [
        "import random\n",
        "\n",
        "# 실제 의미있는 데이터 풀 생성\n",
        "class RealDataGenerator:\n",
        "    def __init__(self):\n",
        "        # 한국 대학교 명단\n",
        "        self.universities = [\n",
        "            \"서울대학교\", \"연세대학교\", \"고려대학교\", \"성균관대학교\", \"한양대학교\",\n",
        "            \"중앙대학교\", \"경희대학교\", \"한국외국어대학교\", \"서강대학교\", \"이화여자대학교\",\n",
        "            \"홍익대학교\", \"건국대학교\", \"동국대학교\", \"국민대학교\", \"숭실대학교\",\n",
        "            \"세종대학교\", \"광운대학교\", \"명지대학교\", \"단국대학교\", \"가천대학교\"\n",
        "        ]\n",
        "\n",
        "        # IT 회사 명단\n",
        "        self.companies = [\n",
        "            \"삼성전자\", \"LG전자\", \"SK하이닉스\", \"네이버\", \"카카오\", \"라인\", \"쿠팡\",\n",
        "            \"배달의민족\", \"토스\", \"당근마켓\", \"야놀자\", \"마켓컬리\", \"직방\",\n",
        "            \"우아한형제들\", \"NHN\", \"엔씨소프트\", \"넷마블\", \"스마일게이트\",\n",
        "            \"크래프톤\", \"컴투스\", \"위메이드\", \"펄어비스\"\n",
        "        ]\n",
        "\n",
        "        # 프로그래밍 언어 및 기술\n",
        "        self.technologies = [\n",
        "            \"Python\", \"Java\", \"JavaScript\", \"TypeScript\", \"C++\", \"C#\", \"Go\", \"Rust\",\n",
        "            \"React\", \"Vue.js\", \"Angular\", \"Node.js\", \"Spring\", \"Django\", \"Flask\",\n",
        "            \"Docker\", \"Kubernetes\", \"AWS\", \"Azure\", \"GCP\", \"MongoDB\", \"MySQL\",\n",
        "            \"PostgreSQL\", \"Redis\", \"Elasticsearch\", \"Kafka\", \"RabbitMQ\", \"Jenkins\"\n",
        "        ]\n",
        "\n",
        "        # 도시 명단\n",
        "        self.cities = [\n",
        "            \"서울\", \"부산\", \"대구\", \"인천\", \"광주\", \"대전\", \"울산\", \"수원\", \"용인\", \"고양\",\n",
        "            \"창원\", \"성남\", \"청주\", \"안산\", \"전주\", \"천안\", \"남양주\", \"화성\", \"평택\", \"의정부\",\n",
        "            \"시흥\", \"파주\", \"김해\", \"순천\", \"목포\", \"포항\", \"구미\", \"경주\", \"양산\", \"진주\"\n",
        "        ]\n",
        "\n",
        "        # 직무 분야\n",
        "        self.job_fields = [\n",
        "            \"프론트엔드개발자\", \"백엔드개발자\", \"풀스택개발자\", \"데이터사이언티스트\", \"AI엔지니어\",\n",
        "            \"DevOps엔지니어\", \"클라우드엔지니어\", \"보안전문가\", \"모바일개발자\", \"게임개발자\",\n",
        "            \"데이터엔지니어\", \"머신러닝엔지니어\", \"블록체인개발자\", \"QA엔지니어\", \"시스템관리자\"\n",
        "        ]\n",
        "\n",
        "    def generate_university_data(self, size):\n",
        "        \"\"\"대학교 관련 데이터 생성\"\"\"\n",
        "        return [\n",
        "            f\"{random.choice(self.universities)}_클라우드공학과_{random.randint(2020, 2024)}학번_학생{i:04d}\"\n",
        "            for i in range(size)\n",
        "        ]\n",
        "\n",
        "    def generate_company_data(self, size):\n",
        "        \"\"\"회사 관련 데이터 생성\"\"\"\n",
        "        departments = [\"개발팀\", \"AI팀\", \"데이터팀\", \"인프라팀\", \"보안팀\", \"기획팀\"]\n",
        "        return [\n",
        "            f\"{random.choice(self.companies)}_{random.choice(departments)}_{random.choice(self.technologies)}개발자_{i:05d}\"\n",
        "            for i in range(size)\n",
        "        ]\n",
        "\n",
        "    def generate_project_data(self, size):\n",
        "        \"\"\"프로젝트 관련 데이터 생성\"\"\"\n",
        "        project_types = [\"웹서비스\", \"모바일앱\", \"AI시스템\", \"데이터분석\", \"클라우드인프라\", \"게임\"]\n",
        "        return [\n",
        "            f\"{random.choice(project_types)}_{random.choice(self.cities)}지역_{random.choice(self.technologies)}기반_프로젝트{i:06d}\"\n",
        "            for i in range(size)\n",
        "        ]\n",
        "\n",
        "    def generate_job_posting_data(self, size):\n",
        "        \"\"\"채용공고 관련 데이터 생성\"\"\"\n",
        "        experience_levels = [\"신입\", \"1-3년\", \"3-5년\", \"5년이상\", \"시니어\"]\n",
        "        return [\n",
        "            f\"{random.choice(self.companies)}_{random.choice(self.job_fields)}_{random.choice(experience_levels)}경력_채용공고{i:05d}\"\n",
        "            for i in range(size)\n",
        "        ]\n",
        "\n",
        "    def generate_course_data(self, size):\n",
        "        \"\"\"강의 관련 데이터 생성\"\"\"\n",
        "        course_types = [\"기초\", \"중급\", \"고급\", \"실무\", \"프로젝트\"]\n",
        "        return [\n",
        "            f\"{random.choice(self.technologies)}_{random.choice(course_types)}과정_{random.choice(self.universities)}_{2024}년{random.randint(1,12):02d}월_수강생{i:04d}\"\n",
        "            for i in range(size)\n",
        "        ]"
      ],
      "metadata": {
        "id": "o7P1qCb58p_A"
      },
      "execution_count": null,
      "outputs": []
    },
    {
      "cell_type": "code",
      "source": [
        "# 벤치마크 함수\n",
        "def benchmark():\n",
        "    sizes = [100, 500, 1000, 5000, 10000]\n",
        "    sort_funcs = [bubble_sort, merge_sort, builtin_sort]\n",
        "    func_times = [[] for _ in sort_funcs]  # 동적 리스트 생성\n",
        "    func_memorys = [[] for _ in sort_funcs]\n",
        "\n",
        "    # 실제 데이터 생성기 초기화\n",
        "    data_generator = RealDataGenerator()\n",
        "\n",
        "    for size in sizes:\n",
        "        # 옵션 1: 대학생 데이터\n",
        "        arr = data_generator.generate_university_data(size)\n",
        "        print(len(arr), arr)\n",
        "\n",
        "        # 옵션 2: IT 회사 직원 데이터\n",
        "        # arr = data_generator.generate_company_data(size)\n",
        "\n",
        "        # 옵션 3: 프로젝트 관리 데이터\n",
        "        # arr = data_generator.generate_project_data(size)\n",
        "\n",
        "        # 옵션 4: 채용공고 데이터\n",
        "        # arr = data_generator.generate_job_posting_data(size)\n",
        "\n",
        "        # 옵션 5: 온라인 강의 수강생 데이터\n",
        "        # arr = data_generator.generate_course_data(size)\n",
        "\n",
        "        time_results, memory_results = measure_time(sort_funcs, arr)\n",
        "        for idx, val in enumerate(time_results):\n",
        "            func_times[idx].append(val)\n",
        "            func_memorys[idx].append(memory_results[idx])\n",
        "\n",
        "\n",
        "    # 그래프 그리기 : 서브플롯 생성 (1행 2열)\n",
        "    fig, axes = plt.subplots(1, 2, figsize=(12, 5))  # 1행 2열의 그래프\n",
        "    ax1, ax2 = axes  # 첫 번째 축 (실행 시간), 두 번째 축 (메모리 사용량)\n",
        "    for idx, sort_func in enumerate(sort_funcs):\n",
        "        ax1.plot(sizes, func_times[idx], label=f\"{sort_func.__name__}\", marker='o')\n",
        "        ax2.plot(sizes, func_memorys[idx], label=f\"{sort_func.__name__}\", marker='o')\n",
        "\n",
        "    ax1.set_xlabel(\"Input Size\")\n",
        "    ax1.set_ylabel(\"Execution Time (seconds)\")\n",
        "    ax1.set_title(\"Algorithm Time Complexity Analysis\")\n",
        "    ax1.legend()\n",
        "\n",
        "    ax2.set_xlabel(\"Input Size\")\n",
        "    ax2.set_ylabel(\"Memory Usage (MB)\")\n",
        "    ax2.set_title(\"Algorithm MemoryUsage Complexity Analysis\")\n",
        "    ax2.legend()\n",
        "    plt.show()\n",
        "\n",
        "\n",
        "# 함수 호출\n",
        "benchmark()"
      ],
      "metadata": {
        "id": "zokyxlRb8440"
      },
      "execution_count": null,
      "outputs": []
    }
  ]
}