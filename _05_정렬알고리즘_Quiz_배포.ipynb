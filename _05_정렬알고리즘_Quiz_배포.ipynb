{
  "nbformat": 4,
  "nbformat_minor": 0,
  "metadata": {
    "colab": {
      "provenance": [],
      "include_colab_link": true
    },
    "kernelspec": {
      "name": "python3",
      "display_name": "Python 3"
    },
    "language_info": {
      "name": "python"
    }
  },
  "cells": [
    {
      "cell_type": "markdown",
      "metadata": {
        "id": "view-in-github",
        "colab_type": "text"
      },
      "source": [
        "<a href=\"https://colab.research.google.com/github/naljini/gachon-algorithm-2025/blob/main/_05_%EC%A0%95%EB%A0%AC%EC%95%8C%EA%B3%A0%EB%A6%AC%EC%A6%98_Quiz_%EB%B0%B0%ED%8F%AC.ipynb\" target=\"_parent\"><img src=\"https://colab.research.google.com/assets/colab-badge.svg\" alt=\"Open In Colab\"/></a>"
      ]
    },
    {
      "cell_type": "markdown",
      "source": [
        "# 정렬 알고리즘 *Quiz*"
      ],
      "metadata": {
        "id": "GdO0MJ8f2y49"
      }
    },
    {
      "cell_type": "markdown",
      "source": [
        "\n",
        "\n",
        "---\n",
        "\n"
      ],
      "metadata": {
        "id": "9M9TjfkP22Nx"
      }
    },
    {
      "cell_type": "markdown",
      "source": [
        "### ✅ Q1. Insertion_sort와 Merge_sort 수행 시간 조건에 맞는 적절한 n값은?\n",
        "동일한 기계에서 삽입정렬과 병합 정렬의 구현 결과를 비교한다고 가정하자. n개의 입력에 대해 삽입 정렬은 $8n^2$번을, 병합 정렬은 $64nlogn$번을 계산하고 각각 종료한다. n값이 얼마일 때까지 삽입 정렬이 병합 정렬보다 빠를까? <br> (단, 파이썬 코드로 확인시 $logn$은 $log_2$로 계산 가능)\n"
      ],
      "metadata": {
        "id": "ZvduXshFMMsd"
      }
    },
    {
      "cell_type": "markdown",
      "source": [
        "**[Solution]** :\n",
        "- $\\textit{솔루션을 작성하세요.}$"
      ],
      "metadata": {
        "id": "CkWEWep9MkT4"
      }
    },
    {
      "cell_type": "code",
      "source": [
        "import math\n",
        "\n",
        "def find_max_n():\n",
        "\n",
        "    # 코드를 작성하세요.\n",
        "\n",
        "\n",
        "max_n = find_max_n()\n",
        "print(f\"삽입 정렬이 병합 정렬보다 빠른 최대 n 값은: {max_n}\")\n"
      ],
      "metadata": {
        "id": "V3ckfuT2CxTY"
      },
      "execution_count": null,
      "outputs": []
    },
    {
      "cell_type": "markdown",
      "source": [
        "**결론**\n",
        "- $\\textit{결론을 작성하세요.}$"
      ],
      "metadata": {
        "id": "dUDMJShYPMrT"
      }
    },
    {
      "cell_type": "markdown",
      "source": [
        "\n",
        "\n",
        "---\n",
        "\n"
      ],
      "metadata": {
        "id": "SAJ40CvkJcCz"
      }
    },
    {
      "cell_type": "markdown",
      "source": [
        "### ✅ Q2. 수행시간 조건에 맞는 n의 최솟값은?\n",
        "동일한 기계에서 수행 시간이 $100n^2$인 알고리즘이 수행 시간이 $2^n$인 알고리즘보다 빨라지는 n의 최솟값은 얼마인가?"
      ],
      "metadata": {
        "id": "fE3URhxGJdwd"
      }
    },
    {
      "cell_type": "markdown",
      "source": [
        "**[Solution]** :\n",
        "- $\\textit{솔루션을 작성하세요.}$\n"
      ],
      "metadata": {
        "id": "S0Jk5hjJKBsk"
      }
    },
    {
      "cell_type": "code",
      "source": [
        "def find_min_n_for_faster_exponential():\n",
        "\n",
        "    # 코드를 작성하세요.\n",
        "\n",
        "\n",
        "min_n = find_min_n_for_faster_exponential()\n",
        "print(f\"100n² < 2ⁿ이 처음 성립하는 최소 n 값은: {min_n}\")\n"
      ],
      "metadata": {
        "id": "4uK7ob5uJ90P"
      },
      "execution_count": null,
      "outputs": []
    },
    {
      "cell_type": "markdown",
      "source": [
        "**결론**\n",
        "- $\\textit{결론을 작성하세요.}$"
      ],
      "metadata": {
        "id": "JN4bKvvUmIMK"
      }
    },
    {
      "cell_type": "markdown",
      "source": [
        "\n",
        "\n",
        "---\n",
        "\n"
      ],
      "metadata": {
        "id": "AQHZDlRkRoDE"
      }
    },
    {
      "cell_type": "markdown",
      "source": [
        "### ✅ Q3. 배열의 최대힙(Max-heap) 판단?\n",
        "배열 [33,19,20,15,13,10,2,13,16,12]는 최대힙인가?"
      ],
      "metadata": {
        "id": "3zlsEaUZRqOX"
      }
    },
    {
      "cell_type": "markdown",
      "source": [
        "**[Solution]** :\n",
        "- 최대 힙(Max Heap) 조건은?\n",
        "$\\textit{솔루션을 작성하세요.}$"
      ],
      "metadata": {
        "id": "clDRPLRTSMz3"
      }
    },
    {
      "cell_type": "code",
      "source": [
        "def is_max_heap(arr):\n",
        "\n",
        "    # 코드를 작성하세요.\n",
        "\n",
        "\n",
        "    return True\n",
        "\n",
        "# 테스트 배열\n",
        "A = [33, 19, 20, 15, 13, 10, 2, 13, 16, 12]\n",
        "\n",
        "if is_max_heap(A):\n",
        "    print(\"이 배열은 최대 힙입니다. ⭕\")\n",
        "else:\n",
        "    print(\"이 배열은 최대 힙이 아닙니다. ❌\")\n"
      ],
      "metadata": {
        "id": "FnwVQS2aTEhi"
      },
      "execution_count": null,
      "outputs": []
    },
    {
      "cell_type": "markdown",
      "source": [
        "**결론**\n",
        "- $\\textit{결론을 작성하세요.}$"
      ],
      "metadata": {
        "id": "AKUTWbWFmNYd"
      }
    },
    {
      "cell_type": "markdown",
      "source": [
        "\n",
        "\n",
        "---\n",
        "\n"
      ],
      "metadata": {
        "id": "vhMiLVeZWVrE"
      }
    },
    {
      "cell_type": "markdown",
      "source": [
        "### ✅ Q4. Insertion sort vs Quick sort 비교하기\n",
        "은행은 주로 계좌의 거래 내역을 거래 시간 순으로 기록하지만 많은 사람이 수표가 번호순으로 되어 있는 고객 내역서를 받고 싶어한다. 사람들은 보통 수표를 수표 번호순으로 사용하고 상인들은 비교적 신속하게 이를 현금화한다. 따라서 거래 시간 순서를 수표 번호 순서로 바꾸는 문제는 거의 정렬된 입력을 정렬하는 문제다. Insertion sort가 Quick sort보다 이 문제를 잘 풀지를 논하라."
      ],
      "metadata": {
        "id": "R-TTyy5NWWkI"
      }
    },
    {
      "cell_type": "markdown",
      "source": [
        "**[Solution]** :\n",
        "- $\\textit{솔루션을 작성하세요.}$"
      ],
      "metadata": {
        "id": "vDygrNPyYl-r"
      }
    },
    {
      "cell_type": "markdown",
      "source": [
        "|상황|Insertion Sort|Quick Sort|\n",
        "|--|--|--|\n",
        "|거의 정렬된 입력 (수표 번호 등) : |    |   |\n",
        "|랜덤한/뒤죽박죽 입력 : | | |\n",
        "|추가 최적화 없이 단순 구현 : | | |\n",
        "|공간 복잡도 : | | |\n",
        "\n"
      ],
      "metadata": {
        "id": "_Bmc00qNYnlN"
      }
    },
    {
      "cell_type": "markdown",
      "source": [
        "**결론**\n",
        "- $\\textit{결론을 작성하세요.}$"
      ],
      "metadata": {
        "id": "bigGujzwZ2X1"
      }
    },
    {
      "cell_type": "markdown",
      "source": [
        "\n",
        "\n",
        "---\n",
        "\n"
      ],
      "metadata": {
        "id": "DMt-BuCgbaWm"
      }
    },
    {
      "cell_type": "markdown",
      "source": [
        "### ✅ Q5. 단어 목록 Radix-sort 정렬하기\n",
        "다음 영어 단어 목록을 Radix-sort 정렬 알고리즘으로 정렬하여라.\n",
        "<br> 단어 목록 : [COW, DOG, SEA, RUG, ROW, MOB, BOX, TAB, BAR, EAR, TAR, DIG, BIG, TEA, NOW, FOX]"
      ],
      "metadata": {
        "id": "SkesiuqwbbBZ"
      }
    },
    {
      "cell_type": "code",
      "source": [
        "def radix_sort_strings(A, n):\n",
        "\n",
        "    # 코드를 작성하세요.\n",
        "\n",
        "\n",
        "\n",
        "# 테스트\n",
        "data = [\"COW\", \"DOG\", \"SEA\", \"RUG\", \"ROW\", \"MOB\", \"BOX\", \"TAB\",\n",
        "        \"BAR\", \"EAR\", \"TAR\", \"DIG\", \"BIG\", \"TEA\", \"NOW\", \"FOX\"]\n",
        "\n",
        "\n",
        "print(sorted_data)"
      ],
      "metadata": {
        "id": "UpZtAm8Ybozo"
      },
      "execution_count": null,
      "outputs": []
    },
    {
      "cell_type": "markdown",
      "source": [
        "**결론**\n",
        "- Radix-sort 정렬 결과:   $\\textit{결론을 작성하세요.}$"
      ],
      "metadata": {
        "id": "H4GQJXHUmmZk"
      }
    },
    {
      "cell_type": "markdown",
      "source": [
        "\n",
        "\n",
        "---\n",
        "\n"
      ],
      "metadata": {
        "id": "y-o_9Zphmwy-"
      }
    }
  ]
}