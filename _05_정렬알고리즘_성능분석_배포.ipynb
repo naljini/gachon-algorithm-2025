{
  "nbformat": 4,
  "nbformat_minor": 0,
  "metadata": {
    "colab": {
      "provenance": [],
      "gpuType": "T4",
      "include_colab_link": true
    },
    "kernelspec": {
      "name": "python3",
      "display_name": "Python 3"
    },
    "language_info": {
      "name": "python"
    },
    "accelerator": "GPU"
  },
  "cells": [
    {
      "cell_type": "markdown",
      "metadata": {
        "id": "view-in-github",
        "colab_type": "text"
      },
      "source": [
        "<a href=\"https://colab.research.google.com/github/naljini/gachon-algorithm-2025/blob/main/_05_%EC%A0%95%EB%A0%AC%EC%95%8C%EA%B3%A0%EB%A6%AC%EC%A6%98_%EC%84%B1%EB%8A%A5%EB%B6%84%EC%84%9D_%EB%B0%B0%ED%8F%AC.ipynb\" target=\"_parent\"><img src=\"https://colab.research.google.com/assets/colab-badge.svg\" alt=\"Open In Colab\"/></a>"
      ]
    },
    {
      "cell_type": "markdown",
      "source": [
        "# **정렬 알고리즘 성능분석**"
      ],
      "metadata": {
        "id": "HAXUGc0BrC7y"
      }
    },
    {
      "cell_type": "markdown",
      "source": [
        "\n",
        "\n",
        "---\n",
        "\n"
      ],
      "metadata": {
        "id": "syv67br4rFfR"
      }
    },
    {
      "cell_type": "markdown",
      "source": [
        "**(코랩에서)한글 폰트 지정하는 방법**"
      ],
      "metadata": {
        "id": "Uzqyux7fJbNn"
      }
    },
    {
      "cell_type": "code",
      "source": [
        "!sudo apt-get install -y fonts-nanum\n",
        "!sudo fc-cache -fv\n",
        "!rm ~/.cache/matplotlib -rf\n",
        "\n",
        "# 코랩에서 위 코드를 실행시킨 후  반드시 코랩 메뉴: \"런타임>세션 다시 시작\" 합니다."
      ],
      "metadata": {
        "collapsed": true,
        "id": "A_oQRimiJPhf"
      },
      "execution_count": null,
      "outputs": []
    },
    {
      "cell_type": "code",
      "source": [
        "import matplotlib.pyplot as plt\n",
        "plt.rc('font', family='NanumGothic')       # (코랩)한글 폰트"
      ],
      "metadata": {
        "id": "xTBXzrFAJ8Hs"
      },
      "execution_count": null,
      "outputs": []
    },
    {
      "cell_type": "markdown",
      "source": [
        "\n",
        "\n",
        "---\n",
        "\n"
      ],
      "metadata": {
        "id": "vdh2d1iCKKI-"
      }
    },
    {
      "cell_type": "markdown",
      "source": [
        "# **1. 정렬 알고리즘 테스트**\n",
        "\n",
        "- 아래 조건에 대해 정렬이 잘 되는지 확인하기\n",
        "    1. **정수 데이터 정렬** : 내부 정렬함수와 데이터 비교(내부함수 vs 정렬함수)\n",
        "    2. **[] 빈 데이터** 정렬\n",
        "    3. **음수 데이터** 정렬\n",
        "    4. **np.array 데이터** 정렬\n",
        "    5. **이미 정렬이 된 데이터** 정렬\n",
        "    6. **역순 정렬이 된 데이터** 정렬\n",
        "    7. **큰 데이터** 정렬"
      ],
      "metadata": {
        "id": "KiupI2zMrOE4"
      }
    },
    {
      "cell_type": "markdown",
      "source": [
        "## **@테스트용 함수 만들기**: test_sort()\n",
        "\n",
        "- 함수명: test_sort(정렬함수명, 정렬할 데이터, 데이터 설명)"
      ],
      "metadata": {
        "id": "fzsTVBRrKxtf"
      }
    },
    {
      "cell_type": "code",
      "source": [
        "import numpy as np\n",
        "\n",
        "# -------------------------------\n",
        "# 테스트 함수\n",
        "# -------------------------------\n",
        "\n",
        "def test_sort(sort_func, data, label=\"\", sort_show=False):\n",
        "    '''\n",
        "    sort_func : 정렬함수명,\n",
        "    data : 정렬할 데이터,\n",
        "    label : 데이터 설명\n",
        "    '''\n",
        "\n",
        "    # 원본 데이터 복사\n",
        "    original = np.copy(data) if isinstance(data, np.ndarray) else list(data)\n",
        "    test_data = np.copy(data) if isinstance(data, np.ndarray) else list(data)\n",
        "\n",
        "    # 정렬 수행\n",
        "    test_data = sort_func(test_data, len(test_data))\n",
        "\n",
        "    # 기대 결과 계산\n",
        "    expected = np.sort(original) if isinstance(data, np.ndarray) else sorted(original)\n",
        "\n",
        "    # 비교 결과 출력\n",
        "    passed = np.array_equal(test_data, expected) if isinstance(data, np.ndarray) else test_data == expected\n",
        "    print(f\"[{sort_func.__name__}] {label}: {'✅ PASS' if passed else '❌ FAIL'}\")\n",
        "    if not passed:\n",
        "        print(\"Expected:\", expected)\n",
        "        print(\"Got     :\", test_data)\n",
        "\n",
        "    # 정렬 전, 후 출력\n",
        "    if sort_show:\n",
        "        print(\" Before sorting: \", end = '')\n",
        "        print(data)\n",
        "        print(\" After sorting : \", end = '')\n",
        "        print(test_data)\n"
      ],
      "metadata": {
        "collapsed": true,
        "id": "SdA7iyaD_0g1"
      },
      "execution_count": null,
      "outputs": []
    },
    {
      "cell_type": "markdown",
      "source": [
        "## **Bubble Sort**"
      ],
      "metadata": {
        "id": "5b4maBOM_uNH"
      }
    },
    {
      "cell_type": "code",
      "source": [
        "def bubble_sort(A, n):  # swap 방식\n",
        "\n",
        "\n",
        "    return A\n"
      ],
      "metadata": {
        "id": "iYbTAM3lrOYO"
      },
      "execution_count": null,
      "outputs": []
    },
    {
      "cell_type": "markdown",
      "source": [
        "### **[실습]** Bubble Sort 정렬하기"
      ],
      "metadata": {
        "id": "wyTWQu0SQEN2"
      }
    },
    {
      "cell_type": "code",
      "source": [
        "test_sort(bubble_sort, [11, 1, 51, 1, 5, 3], \"1.List with duplicates\", False)\n",
        "test_sort(bubble_sort, [], \"2.Empty list\")\n",
        "test_sort(bubble_sort, [1, 1, -5, 6], \"3.List with negative numbers\")\n",
        "test_sort(bubble_sort, np.array([11, -4, 20, 15, 13.5, -20]), \"4.Numpy array with floats\")\n",
        "test_sort(bubble_sort, np.array(range(50)), \"5.Already sorted array\")\n",
        "test_sort(bubble_sort, np.arange(50, 0, -5), \"6.Reversed array\")\n",
        "test_sort(bubble_sort, np.random.randint(-5000, 5000, size=1000), \"7/Large random array\")"
      ],
      "metadata": {
        "id": "6hfI6HklNyZG"
      },
      "execution_count": null,
      "outputs": []
    },
    {
      "cell_type": "markdown",
      "source": [
        "## **Selection Sort**"
      ],
      "metadata": {
        "id": "sp01aJR3K8oh"
      }
    },
    {
      "cell_type": "code",
      "source": [
        "# selection_sort 함수\n",
        "def selection_sort(A, n):    # 최대값 찾기 방식\n",
        "\n",
        "\n",
        "\n",
        "    return A"
      ],
      "metadata": {
        "id": "84tA1UyFK9gj"
      },
      "execution_count": null,
      "outputs": []
    },
    {
      "cell_type": "markdown",
      "source": [
        "### **[실습]** Selection Sort 정렬하기"
      ],
      "metadata": {
        "id": "fWZATfnyoCKX"
      }
    },
    {
      "cell_type": "code",
      "source": [
        "# selection_sort 테스트\n",
        "test_sort(selection_sort, [11, 1, 51, 1, 5, 3], \"List with duplicates\")\n",
        "test_sort(selection_sort, [], \"Empty list\")\n",
        "test_sort(selection_sort, [1, 1, -5, 6], \"List with negative numbers\")\n",
        "test_sort(selection_sort, np.array([11, -4, 20, 15, 13.5, -20]), \"Numpy array with floats\")\n",
        "test_sort(selection_sort, np.array(range(50)), \"Already sorted array\")\n",
        "test_sort(selection_sort, np.arange(50, 0, -5), \"Reversed array\")\n",
        "test_sort(selection_sort, np.random.randint(-5000, 5000, size=1000), \"Large random array\")"
      ],
      "metadata": {
        "collapsed": true,
        "id": "tZllpPxhMSYk"
      },
      "execution_count": null,
      "outputs": []
    },
    {
      "cell_type": "markdown",
      "source": [
        "\n",
        "\n",
        "---\n",
        "\n"
      ],
      "metadata": {
        "id": "troBFmfYOWYV"
      }
    },
    {
      "cell_type": "markdown",
      "source": [
        "## **Insertion Sort**"
      ],
      "metadata": {
        "id": "m4Wz-7lz_1Lg"
      }
    },
    {
      "cell_type": "code",
      "source": [
        "# insertion_sort 함수\n",
        "def insertion_sort(A, n):\n",
        "\n",
        "\n",
        "\n",
        "    return A"
      ],
      "metadata": {
        "id": "YMY5uGNPNTQT"
      },
      "execution_count": null,
      "outputs": []
    },
    {
      "cell_type": "markdown",
      "source": [
        "### **[실습]** Insertion Sort 정렬하기"
      ],
      "metadata": {
        "id": "aF4DMbEpoQCU"
      }
    },
    {
      "cell_type": "code",
      "source": [
        "# insertion_sort 테스트\n",
        "test_sort(insertion_sort, [11, 1, 51, 1, 5, 3], \"List with duplicates\")\n",
        "test_sort(insertion_sort, [], \"Empty list\")\n",
        "test_sort(insertion_sort, [1, 1, -5, 6], \"List with negative numbers\")\n",
        "test_sort(insertion_sort, np.array([11, -4, 20, 15, 13.5, -20]), \"Numpy array with floats\")\n",
        "test_sort(insertion_sort, np.array(range(50)), \"Already sorted array\")\n",
        "test_sort(insertion_sort, np.arange(50, 0, -5), \"Reversed array\")\n",
        "# test_sort(insertion_sort, np.random.randint(-5000, 5000, size=1000), \"Large random array\")"
      ],
      "metadata": {
        "id": "MdOpAe5aLGMs"
      },
      "execution_count": null,
      "outputs": []
    },
    {
      "cell_type": "markdown",
      "source": [
        "\n",
        "\n",
        "---\n",
        "\n"
      ],
      "metadata": {
        "id": "5T6UBixpRDlS"
      }
    },
    {
      "cell_type": "markdown",
      "source": [
        "##  **@테스트 함수 최적화**\n",
        "- 리스트와 반복문을 이용하여 여러 개의 정렬함수를 반복해서 호출하여 테스트할 수 있도록 코드를 구현하시오.\n",
        "- 정렬함수 목록 **sort_algorithms = [bubble_sort, selection_sort, insertion_sort]**"
      ],
      "metadata": {
        "id": "EqwOlkiDQXDD"
      }
    },
    {
      "cell_type": "code",
      "source": [
        "import numpy as np\n",
        "\n",
        "# -------------------------------\n",
        "# 테스트 케이스 리스트\n",
        "# -------------------------------\n",
        "test_cases = [\n",
        "    ([11, 1, 51, 1, 5, 3], \"1.List with duplicates\"),\n",
        "    ([], \"2.Empty list\"),\n",
        "    ([1, 1, -5, 6], \"3.List with negative numbers\"),\n",
        "    (np.array([11, -4, 20, 15, 13.5, -20]), \"4.Numpy array with floats\"),\n",
        "    (np.array(range(50)), \"5.Already sorted array\"),\n",
        "    (np.arange(50, 0, -5), \"6.Reversed array\"),\n",
        "    (np.random.randint(-5000, 5000, size=1000), \"7.Large random array\"),\n",
        "]\n",
        "\n",
        "# -------------------------------\n",
        "# 알고리즘 반복 테스트\n",
        "# -------------------------------\n",
        "sort_algorithms = [bubble_sort, selection_sort, insertion_sort]\n",
        "\n",
        "for sort_func in sort_algorithms:\n",
        "    print(f\"\\n🔎 Testing: {sort_func.__name__}\")\n",
        "    for data, label in test_cases:\n",
        "        test_sort(sort_func, data, label)\n"
      ],
      "metadata": {
        "id": "0RSf3jJLRLGI"
      },
      "execution_count": null,
      "outputs": []
    },
    {
      "cell_type": "markdown",
      "source": [
        "\n",
        "\n",
        "---\n",
        "\n"
      ],
      "metadata": {
        "id": "K-pPDPh2NQqH"
      }
    },
    {
      "cell_type": "markdown",
      "source": [
        "## **Merge Sort**"
      ],
      "metadata": {
        "id": "QeJLPwgvPpg0"
      }
    },
    {
      "cell_type": "markdown",
      "source": [
        "### **[실습]** Merge Sort 정렬하기\n",
        "- [주의] 입력이 np.array면 list로 변환할 필요가 있습니다."
      ],
      "metadata": {
        "id": "kdwTOpVio0fC"
      }
    },
    {
      "cell_type": "code",
      "source": [
        "def merge(left, right):\n",
        "    # print('->left:', list(left), 'right:', list(right))\n",
        "    merged = []\n",
        "    l_idx, r_idx = 0, 0\n",
        "\n",
        "    while l_idx < len(left) and r_idx < len(right):\n",
        "        if left[l_idx] < right[r_idx]:\n",
        "            merged.append(left[l_idx])\n",
        "            l_idx += 1\n",
        "        else:\n",
        "            merged.append(right[r_idx])\n",
        "            r_idx += 1\n",
        "\n",
        "    merged += left[l_idx:]\n",
        "    merged += right[r_idx:]\n",
        "    return merged\n",
        "\n",
        "def merge_sort(A, n):\n",
        "    # 입력이 np.array면 list로 변환\n",
        "    if isinstance(A, np.ndarray):\n",
        "        A = A.tolist()\n",
        "\n",
        "\n",
        "\n",
        "\n",
        "# 테스트\n",
        "arr = np.array([11, -4, 20, 15, 13.5, -20])\n",
        "print(\"정렬 이전: \", arr)\n",
        "print(\"정렬 이후: \", merge_sort(arr, len(arr)) )\n"
      ],
      "metadata": {
        "id": "l39WcSEvPtn4"
      },
      "execution_count": null,
      "outputs": []
    },
    {
      "cell_type": "markdown",
      "source": [
        "## **Quick Sort**"
      ],
      "metadata": {
        "id": "szRnQte6P8C2"
      }
    },
    {
      "cell_type": "markdown",
      "source": [
        "### **[실습]** Quick Sort 정렬하기"
      ],
      "metadata": {
        "id": "XUr77ysgpGFr"
      }
    },
    {
      "cell_type": "code",
      "source": [
        "#  quick_sort 함수\n",
        "def quick_sort(A, n):\n",
        "\n",
        "\n",
        "\n",
        "    # 재귀적으로 정렬한 결과를 결합\n",
        "    return quick_sort(left, len(left)) + [pivot] + quick_sort(right, len(right))\n",
        "\n",
        "\n",
        "# 예시 사용\n",
        "arr = [24, 9, 29, 14, 19, 27]\n",
        "print(\"정렬 이전: \", arr)\n",
        "print(\"정렬 이후: \", quick_sort(arr, len(arr)) )"
      ],
      "metadata": {
        "id": "S1ODqFBDQAHJ"
      },
      "execution_count": null,
      "outputs": []
    },
    {
      "cell_type": "markdown",
      "source": [
        "## **Heap Sort**"
      ],
      "metadata": {
        "id": "Vl9qQuC4QJSg"
      }
    },
    {
      "cell_type": "markdown",
      "source": [
        "### **[실습]** Heap Sort 정의하기"
      ],
      "metadata": {
        "id": "7mIz8LOUpJT3"
      }
    },
    {
      "cell_type": "code",
      "source": [
        "#  heap_sort 함수\n",
        "def heapify(arr, n, i):\n",
        "    largest = i          # 루트 노드\n",
        "    left = 2 * i + 1     # 왼쪽 자식\n",
        "    right = 2 * i + 2    # 오른쪽 자식\n",
        "\n",
        "    # 왼쪽 자식이 루트보다 크면\n",
        "    if left < n and arr[left] > arr[largest]:\n",
        "        largest = left\n",
        "\n",
        "    # 오른쪽 자식이 현재까지 가장 큰 노드보다 크면\n",
        "    if right < n and arr[right] > arr[largest]:\n",
        "        largest = right\n",
        "\n",
        "    # largest가 루트가 아니라면, swap 후 재귀 호출\n",
        "    if largest != i:\n",
        "        arr[i], arr[largest] = arr[largest], arr[i]\n",
        "        # print_tree(arr, n, largest    # 트리 시각화: 방법1\n",
        "        # visualize_heap(arr, largest)    # 트리 시각화: 방법2\n",
        "        heapify(arr, n, largest)\n",
        "\n",
        "    # print(arr)\n",
        "\n",
        "\n",
        "def heap_sort(A, n):\n",
        "    # 1. 최대 힙(Max Heap) 구성\n",
        "\n",
        "\n",
        "    # 2. 하나씩 루트(최댓값)를 꺼내서 정렬 위치로 이동\n",
        "\n",
        "\n",
        "    return A\n",
        "\n",
        "# 예시 사용\n",
        "arr = [81, 89, 9, 11, 14, 76, 54, 22]\n",
        "print(\"정렬 이전: \", arr)\n",
        "print(\"정렬 이후: \", heap_sort(arr, len(arr)) )"
      ],
      "metadata": {
        "collapsed": true,
        "id": "mepT4Sc1WnEG"
      },
      "execution_count": null,
      "outputs": []
    },
    {
      "cell_type": "markdown",
      "source": [
        "- 트리 시각화"
      ],
      "metadata": {
        "id": "wtxKuPePve4D"
      }
    },
    {
      "cell_type": "code",
      "source": [
        "# 방법1 : 들여쓰기로 트리 시각화\n",
        "def print_tree(arr, n, current_node=-1):\n",
        "    \"\"\"배열을 들여쓰기를 사용하여 트리 형태로 시각화합니다.\"\"\"\n",
        "    if n == 0:\n",
        "        print(\"(빈 힙)\")\n",
        "        return\n",
        "\n",
        "    def print_level(arr, n, index, level, indent, current):\n",
        "        if index < n:\n",
        "            print(f\"{indent}{'[' if index == current else ''}{arr[index]}{']' if index == current else ''}\")\n",
        "            left_child = 2 * index + 1\n",
        "            right_child = 2 * index + 2\n",
        "            next_indent = indent + \"--\"\n",
        "            print_level(arr, n, left_child, level + 1, next_indent, current)\n",
        "            print_level(arr, n, right_child, level + 1, next_indent, current)\n",
        "\n",
        "    print(\"힙 구조:\")\n",
        "    print_level(arr, n, 0, 0, \"\", current_node)\n",
        "    print(\"-\" * 20)\n",
        "\n",
        "sorted_arr = heap_sort(arr, len(arr))\n",
        "print_tree(sorted_arr, len(sorted_arr))"
      ],
      "metadata": {
        "id": "lE1rV0orB4RK"
      },
      "execution_count": null,
      "outputs": []
    },
    {
      "cell_type": "code",
      "source": [
        "# 방법2 : networks 라이브러리로 트리 시각화\n",
        "import networkx as nx\n",
        "import matplotlib.pyplot as plt\n",
        "\n",
        "def visualize_heap(arr, current_node=-1):\n",
        "    \"\"\"networkx를 이용하여 힙(트리) 구조를 시각화합니다.\"\"\"\n",
        "    n = len(arr)\n",
        "\n",
        "    if n == 0:\n",
        "        print(\"(빈 힙)\")\n",
        "        return\n",
        "\n",
        "    G = nx.DiGraph()\n",
        "\n",
        "    # 노드 추가 (값은 label로, 인덱스를 node id로)\n",
        "    for i in range(n):\n",
        "        label = f\"[{arr[i]}]\" if i == current_node else str(arr[i])\n",
        "        G.add_node(i, label=label)\n",
        "\n",
        "    # 간선 추가 (이진 트리 구조)\n",
        "    for i in range(n):\n",
        "        left = 2 * i + 1\n",
        "        right = 2 * i + 2\n",
        "        if left < n:\n",
        "            G.add_edge(i, left)\n",
        "        if right < n:\n",
        "            G.add_edge(i, right)\n",
        "\n",
        "    # 레이아웃 정의 (tree layout처럼 보이게)\n",
        "    def hierarchy_pos(G, root=0, width=1., vert_gap=0.2, vert_loc=0, xcenter=0.5, pos=None, parent=None):\n",
        "        \"\"\"트리 구조의 계층적 위치 계산 함수\"\"\"\n",
        "        if pos is None:\n",
        "            pos = {root: (xcenter, vert_loc)}\n",
        "        else:\n",
        "            pos[root] = (xcenter, vert_loc)\n",
        "        children = list(G.successors(root))\n",
        "        if len(children) != 0:\n",
        "            dx = width / 2\n",
        "            nextx = xcenter - width/2 - dx/2\n",
        "            for child in children:\n",
        "                nextx += dx\n",
        "                pos = hierarchy_pos(G, child, width=dx, vert_gap=vert_gap,\n",
        "                                    vert_loc=vert_loc - vert_gap, xcenter=nextx, pos=pos, parent=root)\n",
        "        return pos\n",
        "\n",
        "    pos = hierarchy_pos(G)\n",
        "\n",
        "    labels = nx.get_node_attributes(G, 'label')\n",
        "    plt.figure(figsize=(4, 3))\n",
        "    nx.draw(G, pos, with_labels=False, arrows=False, node_size=1000, node_color='skyblue')\n",
        "    nx.draw_networkx_labels(G, pos, labels, font_size=10, font_weight='bold')\n",
        "    plt.title(\"Heap Tree Visualization\")\n",
        "    plt.axis('off')\n",
        "    plt.show()\n",
        "\n",
        "\n",
        "sorted_arr = heap_sort(arr, len(arr))\n",
        "visualize_heap(sorted_arr)\n"
      ],
      "metadata": {
        "id": "ccMJQEXXwKRG"
      },
      "execution_count": null,
      "outputs": []
    },
    {
      "cell_type": "markdown",
      "source": [
        "## **Shell Sort**"
      ],
      "metadata": {
        "id": "elwz8gE6WsLZ"
      }
    },
    {
      "cell_type": "code",
      "source": [
        "# shell_sort 함수\n",
        "def shell_sort(A, n):\n",
        "    gap = n // 2  # 초기 간격 설정\n",
        "\n",
        "    # 간격을 줄여가면서 반복\n",
        "\n",
        "\n",
        "    return A\n"
      ],
      "metadata": {
        "id": "aZJgdL0tWskt"
      },
      "execution_count": null,
      "outputs": []
    },
    {
      "cell_type": "markdown",
      "source": [
        "### **[실습]**  정렬 알고리즘 테스트 하기\n",
        "- 앞에서 작성한 테스트 함수를 이용하여 sort_algorithms 리스트, test_sort함수를 이용하여\n",
        "- merge_sort, quick_sort, heap_sort, shell_sort 정렬 함수를 테스트 해보세요."
      ],
      "metadata": {
        "id": "V5KZOtTNxbsr"
      }
    },
    {
      "cell_type": "code",
      "source": [
        "# -------------------------------\n",
        "# 알고리즘 반복 테스트\n",
        "# -------------------------------\n",
        "sort_algorithms = [merge_sort, quick_sort, heap_sort, shell_sort]\n",
        "\n",
        "for sort_func in sort_algorithms:\n",
        "    print(f\"\\n🔎 Testing: {sort_func.__name__}\")\n",
        "    for data, label in test_cases:\n",
        "        test_sort(sort_func, data, label)"
      ],
      "metadata": {
        "id": "CbUl9KU-XL-X"
      },
      "execution_count": null,
      "outputs": []
    },
    {
      "cell_type": "markdown",
      "source": [
        "\n",
        "\n",
        "---\n",
        "\n"
      ],
      "metadata": {
        "id": "UQUABtndL5yf"
      }
    },
    {
      "cell_type": "markdown",
      "source": [
        "# **2. 정렬 알고리즘 성능비교(시간 측정)**"
      ],
      "metadata": {
        "id": "nxvGPVQBODiJ"
      }
    },
    {
      "cell_type": "markdown",
      "source": [
        "## **한 개의 알고리즘 성능 측정** (숫자 데이터)"
      ],
      "metadata": {
        "id": "UpGd6JO1L-FE"
      }
    },
    {
      "cell_type": "markdown",
      "source": [
        "- **데이터 크기(Size)별 정렬 시간 측정**(➡️1차시 실습코드 참고) <br>\n",
        "- **데이터** : random.randint(0, 10000)\n",
        "- **시간측정 함수** : measure_time(정렬 알고리즘, 데이터 크기)\n",
        "- **크기별 데이터**   : sizes = [100, 500, 1000, 5000]\n",
        "- **정렬 알고리즘** : sort_funcs = bubble_sort\n",
        "- **알고리즘별 측정 시간 저장** :  bubble_times = []"
      ],
      "metadata": {
        "id": "uD6s9Wp1MajR"
      }
    },
    {
      "cell_type": "code",
      "source": [
        "# 정렬 알고리즘의 시간 성능 비교\n",
        "import time\n",
        "import random\n",
        "\n",
        "def measure_time(sort_func, size):\n",
        "    arr = [random.randint(0, 10000) for _ in range(size)]\n",
        "    start = time.time()  # 시간 측정 시작\n",
        "    sort_func(arr, len(arr))\n",
        "    end = time.time()    # 시간 측정 종료\n",
        "    return end - start\n",
        "\n",
        "# 데이터 크기\n",
        "sizes = [100, 500, 1000, 5000]\n",
        "for size in sizes:\n",
        "    print(f\"Size {size}: Bubble Sort = {measure_time(bubble_sort, size):.6f} sec\")"
      ],
      "metadata": {
        "id": "1trXc4SzL1dQ"
      },
      "execution_count": null,
      "outputs": []
    },
    {
      "cell_type": "markdown",
      "source": [
        "- 그래프로 시각화"
      ],
      "metadata": {
        "id": "AyGuGaw6MYUB"
      }
    },
    {
      "cell_type": "code",
      "source": [
        "# 그래프로 표현\n",
        "import time\n",
        "import random\n",
        "import matplotlib.pyplot as plt\n",
        "\n",
        "def measure_time(sort_func, sizes):\n",
        "    times = []\n",
        "    for size in sizes:\n",
        "        arr = [random.randint(0, 10000) for _ in range(size)]\n",
        "        start = time.time()             # 시작 시간 측정\n",
        "        sort_func(arr, len(arr))\n",
        "        end = time.time()               # 종료 시간 측정\n",
        "        times.append(end - start)\n",
        "    return times\n",
        "\n",
        "# 데이터 크기\n",
        "sizes = [100, 500, 1000, 5000]\n",
        "\n",
        "# 시간 측정하여 리스트로 담기\n",
        "bubble_times = measure_time(bubble_sort, sizes)\n",
        "\n",
        "# 그래프 그리기\n",
        "plt.figure(figsize=(4, 3))\n",
        "plt.plot(sizes, bubble_times, label=\"Bubble Sort\", marker='o')\n",
        "plt.xlabel(\"Input Size\")\n",
        "plt.ylabel(\"Execution Time (seconds)\")\n",
        "plt.legend()\n",
        "plt.title(\"Algorithm Complexity Analysis\")\n",
        "plt.show()"
      ],
      "metadata": {
        "id": "DD00c_vqMTeF"
      },
      "execution_count": null,
      "outputs": []
    },
    {
      "cell_type": "markdown",
      "source": [
        "\n",
        "\n",
        "---\n",
        "\n"
      ],
      "metadata": {
        "id": "Dq0dTJVGA8gi"
      }
    },
    {
      "cell_type": "markdown",
      "source": [
        "## **여러 개 알고리즘 비교**\n",
        "- 데이터 크기   : sizes = [100, 500, 1000, 5000]\n",
        "- 정렬 알고리즘 : sort_funcs = [bubble_sort, selection_sort, insertion_sort, merge_sort, quick_sort]\n",
        "- 알고리즘별 측정 시간 저장: func_times = [[] for _ in sort_funcs]  # 동적 리스트 생성\n"
      ],
      "metadata": {
        "id": "QjeUTZpdLZYx"
      }
    },
    {
      "cell_type": "code",
      "source": [
        "# 코드 작성\n",
        "import time\n",
        "import random\n",
        "import matplotlib.pyplot as plt\n",
        "\n",
        "# 실행 시간 측정 함수\n",
        "def measure_time(sort_funcs, arr):\n",
        "    times = []\n",
        "    for sort_func in sort_funcs:\n",
        "        arr_copy = arr[:]  # 원본 배열 보호 (정렬 후 배열이 바뀌므로 복사)\n",
        "        start = time.time()\n",
        "        sort_func(arr_copy, len(arr_copy))\n",
        "        end = time.time()\n",
        "        times.append(end - start)\n",
        "    return times\n",
        "\n",
        "\n",
        "# 벤치마크 함수\n",
        "def benchmark():\n",
        "    sizes = [100, 500, 1000, 5000, 10000]\n",
        "    sort_funcs = [bubble_sort, selection_sort, insertion_sort, merge_sort, quick_sort]\n",
        "    func_times = [[] for _ in sort_funcs]  # 동적 리스트 생성\n",
        "\n",
        "    # 실행 시간 측정\n",
        "    for size in sizes:\n",
        "        arr = [random.randint(0, 10000) for _ in range(size)]   # 정수(양의 정수)\n",
        "        results = measure_time(sort_funcs, arr)\n",
        "        for idx, val in enumerate(results):\n",
        "            func_times[idx].append(val)\n",
        "\n",
        "    # 그래프 그리기\n",
        "    plt.figure(figsize=(6, 4))\n",
        "    for idx, sort_func in enumerate(sort_funcs):\n",
        "        plt.plot(sizes, func_times[idx], label=f\"{sort_func.__name__}\", marker='o')\n",
        "        print(f\"{sort_func.__name__}\\t\",func_times[idx] )\n",
        "\n",
        "    plt.xlabel(\"Input Size\")\n",
        "    plt.ylabel(\"Execution Time (seconds)\")\n",
        "    plt.title(f\"{sort_func.__name__} Time Complexity Analysis\")\n",
        "    plt.legend()\n",
        "    plt.grid(True)\n",
        "    plt.show()\n",
        "\n",
        "\n",
        "# 함수 호출\n",
        "benchmark()"
      ],
      "metadata": {
        "id": "em-JlDUrSuNE"
      },
      "execution_count": null,
      "outputs": []
    },
    {
      "cell_type": "markdown",
      "source": [
        "### **[실습]** 다양한 종류 데이터를 사용한 정렬 알고리즘 시간 측정하기\n",
        "- 다양한 정렬 알고리즘의 시간 성능을 측정하여 그래프로 시각화하기\n",
        "- sort_funcs = [bubble_sort, selection_sort, insertion_sort, merge_sort, quick_sort]\n",
        "    1. 정수(양의 정수) : 이미 앞에서 테스트 함\n",
        "    2. 정수(음수포함)\n",
        "    3. np.array 정수"
      ],
      "metadata": {
        "id": "qK9Im5RpcWE1"
      }
    },
    {
      "cell_type": "code",
      "source": [
        "# 벤치마크 함수\n",
        "def benchmark():\n",
        "    sizes = [100, 500, 1000, 5000, 10000]\n",
        "    sort_funcs = [bubble_sort, selection_sort, insertion_sort, merge_sort, quick_sort]\n",
        "    func_times = [[] for _ in sort_funcs]  # 동적 리스트 생성\n",
        "\n",
        "    # 실행 시간 측정\n",
        "    for size in sizes:\n",
        "        # arr = [random.randint(0, 10000) for _ in range(size)]         # 정수(양의 정수)\n",
        "        arr = [random.randint(-10000, 10000) for _ in range(size)]    # 정수(음수포함)\n",
        "        # arr = [np.random.randint(-10000, 10000) for _ in range(size)]   # np.array 정수\n",
        "        results = measure_time(sort_funcs, arr)\n",
        "        for idx, val in enumerate(results):\n",
        "            func_times[idx].append(val)\n",
        "\n",
        "    # 그래프 그리기\n",
        "    plt.figure(figsize=(6, 4))\n",
        "    for idx, sort_func in enumerate(sort_funcs):\n",
        "        plt.plot(sizes, func_times[idx], label=f\"{sort_func.__name__}\", marker='o')\n",
        "        # print(f\"{sort_func.__name__}\\t\",func_times[idx] )\n",
        "\n",
        "    plt.xlabel(\"Input Size\")\n",
        "    plt.ylabel(\"Execution Time (seconds)\")\n",
        "    plt.title(\"Algorithm Time Complexity Analysis\")\n",
        "    plt.legend()\n",
        "    plt.grid(True)\n",
        "    plt.show()\n",
        "\n",
        "\n",
        "# 함수 호출\n",
        "benchmark()"
      ],
      "metadata": {
        "id": "o3ANPUrhLdLT"
      },
      "execution_count": null,
      "outputs": []
    },
    {
      "cell_type": "markdown",
      "source": [
        "\n",
        "\n",
        "---\n",
        "\n"
      ],
      "metadata": {
        "id": "qphUUKIsNMvB"
      }
    },
    {
      "cell_type": "markdown",
      "source": [
        "# **3. 문자열 데이터 정렬**"
      ],
      "metadata": {
        "id": "CCX8QjC0BbUl"
      }
    },
    {
      "cell_type": "markdown",
      "source": [
        "## **문자열 데이터 생성하기**"
      ],
      "metadata": {
        "id": "HMpgfdRW5aCw"
      }
    },
    {
      "cell_type": "markdown",
      "source": [
        "- **임의의 영어 단어 생성**\n",
        "    - nltk corpus 라이브러리 사용(Natural Language Toolkit)"
      ],
      "metadata": {
        "id": "X8v5j1BCDTFm"
      }
    },
    {
      "cell_type": "code",
      "source": [
        "# 임의의 문자열 생성\n",
        "import random\n",
        "import nltk             # NLTK :: Natural Language Toolkit\n",
        "\n",
        "# 단어 리스트 다운로드 (처음 실행 시에만 필요)\n",
        "nltk.download('words')\n",
        "from nltk.corpus import words\n",
        "\n",
        "def generate_random_words(n=10000):\n",
        "    word_list = words.words()\n",
        "    # 너무 긴 단어를 제외하고 짧고 일반적인 단어 위주로 선택 (예: 3~8자)\n",
        "    filtered_words = [w for w in word_list if 3 <= len(w) <= 8 and w.isalpha()]\n",
        "    return random.sample(filtered_words, n)\n",
        "\n",
        "# 실행\n",
        "alphabet_words = generate_random_words()\n",
        "print('생성된 단어 개수: ', len(alphabet_words))\n",
        "print(alphabet_words)\n",
        "# alphabet_words = ['braiding', 'bervie', 'uptable', 'awane', 'Cradock']\n"
      ],
      "metadata": {
        "id": "riWBSBFj5aO8"
      },
      "execution_count": null,
      "outputs": []
    },
    {
      "cell_type": "markdown",
      "source": [
        "- **임의의 한글 단어 생성**\n",
        "    - 완성형 한글 음절(U+AC00 ~ U+D7A3)은 초성 × 중성 × 종성의 조합으로 만들어진다.\n",
        "    - 유니코드 최대 4bytes로 구성\n",
        "    - 유니코드는 저장/전송 시 UTF-8, UTF-16, UTF-32 같은 인코딩 방식 사용"
      ],
      "metadata": {
        "id": "g7npb7GqEmG-"
      }
    },
    {
      "cell_type": "code",
      "source": [
        "import random\n",
        "\n",
        "# 초성, 중성, 종성 리스트\n",
        "CHOSUNG = ['ㄱ','ㄲ','ㄴ','ㄷ','ㄸ','ㄹ','ㅁ','ㅂ','ㅃ','ㅅ','ㅆ','ㅇ','ㅈ','ㅉ','ㅊ','ㅋ','ㅌ','ㅍ','ㅎ']\n",
        "JUNGSUNG = ['ㅏ','ㅐ','ㅑ','ㅒ','ㅓ','ㅔ','ㅕ','ㅖ','ㅗ','ㅘ','ㅙ','ㅚ','ㅛ','ㅜ','ㅝ','ㅞ','ㅟ','ㅠ','ㅡ','ㅢ','ㅣ']\n",
        "JONGSUNG = ['','ㄱ','ㄲ','ㄳ','ㄴ','ㄵ','ㄶ','ㄷ','ㄹ','ㄺ','ㄻ','ㄼ','ㄽ','ㄾ','ㄿ','ㅀ','ㅁ','ㅂ','ㅄ','ㅅ','ㅆ','ㅇ','ㅈ','ㅊ','ㅋ','ㅌ','ㅍ','ㅎ']\n",
        "\n",
        "def make_random_syllable():\n",
        "    # 초성, 중성, 종성 선택\n",
        "    cho = random.choice(CHOSUNG)\n",
        "    jung = random.choice(JUNGSUNG)\n",
        "    jong = random.choice(JONGSUNG)\n",
        "\n",
        "    # 유니코드 계산\n",
        "    cho_index = CHOSUNG.index(cho)\n",
        "    jung_index = JUNGSUNG.index(jung)\n",
        "    jong_index = JONGSUNG.index(jong)\n",
        "\n",
        "    '''\n",
        "    유니코드 : 시작위치(0xAC00:가), 초성(19개),중성(21개),종성(28개)\n",
        "    ex: 강'의 구성: ㄱ(초성) + ㅏ(중성) + ㅇ(종성)\n",
        "        인덱스: 초성 'ㄱ' = 0,\n",
        "                중성 'ㅏ' = 0,\n",
        "                중성 'ㅏ' = 0\n",
        "        code = 0xAC00 + (0 * 21 * 28) + (0 * 28) + 21\n",
        "             = 0xAC00 + 21\n",
        "             = 0xAC15  → chr(0xAC15) == '강'\n",
        "    '''\n",
        "    code = 0xAC00 + (cho_index * 21 * 28) + (jung_index * 28) + jong_index\n",
        "\n",
        "    return chr(code)\n",
        "\n",
        "def generate_random_korean_word(length=2):\n",
        "    return ''.join(make_random_syllable() for _ in range(length))\n",
        "\n",
        "# 실행 예\n",
        "print(generate_random_korean_word())       # 예: 눠강\n",
        "print(generate_random_korean_word(3))      # 예: 쳔쿔흗\n"
      ],
      "metadata": {
        "id": "l-IMw8Q8Gwib"
      },
      "execution_count": null,
      "outputs": []
    },
    {
      "cell_type": "markdown",
      "source": [
        "- 의미 있는 한글 단어 사용\n",
        "    - 자주 쓰이는 한국어 낱말: https://ko.wiktionary.org/wiki/%EB%B6%80%EB%A1%9D:%EC%9E%90%EC%A3%BC_%EC%93%B0%EC%9D%B4%EB%8A%94_%ED%95%9C%EA%B5%AD%EC%96%B4_%EB%82%B1%EB%A7%90_5800"
      ],
      "metadata": {
        "id": "hTIxxuq4IXa2"
      }
    },
    {
      "cell_type": "code",
      "source": [
        "import random\n",
        "\n",
        "# 샘플 한글 단어 리스트\n",
        "korean_words = [\n",
        "    \"사과\", \"바나나\", \"고양이\", \"강아지\", \"학교\", \"우산\", \"바람\", \"하늘\", \"바다\",\n",
        "    \"산책\", \"음악\", \"여행\", \"친구\", \"사랑\", \"가족\", \"문화\", \"언어\", \"기술\", \"자연\", \"계절\"\n",
        "]\n",
        "\n",
        "def generate_random_korean_word(n):\n",
        "    return random.choices(korean_words, k=n)\n",
        "\n",
        "# 실행\n",
        "print(generate_random_korean_word(5))\n"
      ],
      "metadata": {
        "id": "BmRuteF6IYCF"
      },
      "execution_count": null,
      "outputs": []
    },
    {
      "cell_type": "markdown",
      "source": [
        "### **[실습]** (국어원) 한글 단어 리스트 만들기  \n",
        "- 앞에서 사용한 \"자주 쓰이는 한국어 낱말 5800\" 사이트에서 데이터 가져와 단어 5000개를 리스트에 지정하기.\n",
        "    1. 사이트에서 한글 단어 복사하기\n",
        "    2. 메모장을 열어 복사하고 korean_words.txt로 저장\n",
        "    3. 코드에서 txt 파일 읽어오기\n",
        "    4. 임의의 1000개 리스트 korean_words 변수에 지정하기"
      ],
      "metadata": {
        "id": "eY0MZ6bvRAod"
      }
    },
    {
      "cell_type": "code",
      "source": [
        "import urllib.request\n",
        "\n",
        "# GitHub raw 파일 URL\n",
        "url = 'https://raw.githubusercontent.com/Joyschool/gachon-algorithm-2025/main/korean_words.txt'\n",
        "\n",
        "filename = 'korean_words.txt'\n",
        "urllib.request.urlretrieve(url, filename)\n",
        "print(f\"✅ 파일 다운로드 성공: {filename}\")\n",
        "\n",
        "\n",
        "with open(filename) as f:\n",
        "    data = f.read()\n",
        "    # print(data)\n",
        "    list1 = data.split('\\n')\n",
        "    korean_words = random.choices(list1, k=5000)\n",
        "    print(korean_words)\n",
        "\n",
        "print('단어 개수: ', len(korean_words))\n"
      ],
      "metadata": {
        "id": "ZnnKw07dRM1-"
      },
      "execution_count": null,
      "outputs": []
    },
    {
      "cell_type": "markdown",
      "source": [
        "\n",
        "\n",
        "---\n",
        "\n"
      ],
      "metadata": {
        "id": "3k44m_yGLHrk"
      }
    },
    {
      "cell_type": "markdown",
      "source": [
        "## **문자열 데이터 정렬하기**"
      ],
      "metadata": {
        "id": "LwQGl0EfLE44"
      }
    },
    {
      "cell_type": "markdown",
      "source": [
        "- **정렬순서**\n",
        "    - **알파벳 정렬** : **대문자->소문자** 알파벳 순서로 정렬\n",
        "    - **한글 정렬**: 가나다 순서로 정렬(유니코드 기준으로 정렬)\n",
        "    - **알파벳 + 한글 정렬** : 알파벳이 먼저 나오고 한글이 나중에 나옵니다. (한글이 유니코드상 더 뒤에 나옴)"
      ],
      "metadata": {
        "id": "0edRytfT8WYk"
      }
    },
    {
      "cell_type": "code",
      "source": [
        "# -------------------------------\n",
        "# 테스트 케이스 리스트\n",
        "# -------------------------------\n",
        "test_cases = [\n",
        "    (['braiding', 'bervie', 'uptable', 'awane', 'Cradock'], \"Alphabet only\"),\n",
        "    (['피자', '자전거', '깃발', '달걀', '게임'], \"Korean only\"),\n",
        "    ([\"banana\", \"사과\", \"apple\", \"토끼\", 'Cradock', \"고양이\"], \"Alphabet + Korean\"),\n",
        "]\n",
        "\n",
        "# -------------------------------\n",
        "# 알고리즘 반복 테스트\n",
        "# -------------------------------\n",
        "sort_algorithms = [bubble_sort, selection_sort, insertion_sort]\n",
        "# sort_algorithms = [bubble_sort]\n",
        "for sort_func in sort_algorithms:\n",
        "    print(f\"\\n🔎 Testing: {sort_func.__name__}\")\n",
        "    for data, label in test_cases:\n",
        "        test_sort(sort_func, data, label, True)\n"
      ],
      "metadata": {
        "id": "JujH2tlaORQx"
      },
      "execution_count": null,
      "outputs": []
    },
    {
      "cell_type": "markdown",
      "source": [
        "### **[실습]** 다량의 문자열 정렬 테스트하기\n",
        "- 앞에서 준비한 alphabet_words와 korean_words, alphabet_words+korean_words 데이터를\n",
        "- test_cases로 만들어 test_sort 함수를 호출하여 정렬을 진행시켜 보세요."
      ],
      "metadata": {
        "id": "CMwkXa-vaDOm"
      }
    },
    {
      "cell_type": "code",
      "source": [
        "# 문자열 데이터 정렬\n",
        "mixed_words = alphabet_words+korean_words\n",
        "random.shuffle(mixed_words)\n",
        "test_cases = [  (alphabet_words, 'alphabet_words'),\n",
        "                (korean_words, 'korean_words'),\n",
        "                (mixed_words, 'mixed_words')]\n",
        "\n",
        "sort_algorithms = [bubble_sort, selection_sort, insertion_sort]\n",
        "# sort_algorithms = [bubble_sort]\n",
        "for sort_func in sort_algorithms:\n",
        "    print(f\"\\n🔎 Testing: {sort_func.__name__}\")\n",
        "    for data, label in test_cases:\n",
        "        test_sort(sort_func, data, label)"
      ],
      "metadata": {
        "id": "i_j5d-K0aMAj"
      },
      "execution_count": null,
      "outputs": []
    },
    {
      "cell_type": "markdown",
      "source": [
        "### **[실습]** 다량의 문자열 데이터 성능 시각화하기\n",
        "앞에서 사용한 데이터를 이용하여 아래 조건에 맞게 성능을 측정하고 시각화하시오.\n",
        "- 데이터 크기   : sizes = [100, 500, 1000, 5000]\n",
        "- 정렬 알고리즘 : sort_funcs = [bubble_sort, selection_sort, insertion_sort, merge_sort, quick_sort]\n",
        "- 알고리즘별 측정 시간 저장: func_times = [[] for _ in sort_funcs]  # 동적 리스트 생성\n",
        "- 정렬 데이터:\n",
        "    1. arr = alphabet_words (영어 단어)\n",
        "    2. arr = korean_words(한글 단어)\n",
        "    3. arr = mixed_words(혼합)"
      ],
      "metadata": {
        "id": "92rRjg1pfogs"
      }
    },
    {
      "cell_type": "code",
      "source": [
        "# 벤치마크 함수\n",
        "def benchmark():\n",
        "    sizes = [100, 500, 1000, 5000]\n",
        "    sort_funcs = [bubble_sort, selection_sort, insertion_sort, merge_sort, quick_sort]\n",
        "    func_times = [[] for _ in sort_funcs]  # 동적 리스트 생성\n",
        "\n",
        "    # 실행 시간 측정\n",
        "    for size in sizes:\n",
        "        # arr = alphabet_words    # alphabet_words\n",
        "        # arr = korean_words      # korean_words\n",
        "        arr = mixed_words       # mixed_words\n",
        "        results = measure_time(sort_funcs, arr)\n",
        "        for idx, val in enumerate(results):\n",
        "            func_times[idx].append(val)\n",
        "\n",
        "    # 그래프 그리기\n",
        "    plt.figure(figsize=(6, 4))\n",
        "    for idx, sort_func in enumerate(sort_funcs):\n",
        "        plt.plot(sizes, func_times[idx], label=f\"{sort_func.__name__}\", marker='o')\n",
        "        # print(f\"{sort_func.__name__}\\t\",func_times[idx] )\n",
        "\n",
        "    plt.xlabel(\"Input Size\")\n",
        "    plt.ylabel(\"Execution Time (seconds)\")\n",
        "    plt.title(\"Algorithm Time Complexity Analysis\")\n",
        "    plt.legend()\n",
        "    plt.grid(True)\n",
        "    plt.show()\n",
        "\n",
        "\n",
        "# 함수 호출\n",
        "benchmark()"
      ],
      "metadata": {
        "id": "3M7njrvxf6AP"
      },
      "execution_count": null,
      "outputs": []
    },
    {
      "cell_type": "markdown",
      "source": [
        "## **혼합 데이터 정렬하기**(숫자 + 영문 + 한글)"
      ],
      "metadata": {
        "id": "XQlKSjRGPIpA"
      }
    },
    {
      "cell_type": "code",
      "source": [
        "mixed_list = ['123', 'abc', '가나', 'ABC', '456', '다라', 'Abc', '789', '나다', 'def']\n"
      ],
      "metadata": {
        "id": "VrDpu2IvnZKe"
      },
      "execution_count": null,
      "outputs": []
    },
    {
      "cell_type": "markdown",
      "source": [
        "- **기본 정렬**(유니코드 기반)\n",
        "    - 숫자 > 알파벳(대문자 > 소문자) > 한글(유니코드 순서: 가,나,다)"
      ],
      "metadata": {
        "id": "B7KoORzjnfSq"
      }
    },
    {
      "cell_type": "code",
      "source": [
        "sorted_list = sorted(mixed_list)\n",
        "sorted_list\n",
        "# 숫자 > 알파벳(대문자 > 소문자) > 한글(유니코드 순서: 가,나,다)"
      ],
      "metadata": {
        "id": "E5M67_tgnlU9"
      },
      "execution_count": null,
      "outputs": []
    },
    {
      "cell_type": "markdown",
      "source": [
        "- **커스텀 정렬 기준 만들기**\n",
        "    - 숫자 > 알파벳 > 한글 순서"
      ],
      "metadata": {
        "id": "l5y-wZwIn3mV"
      }
    },
    {
      "cell_type": "code",
      "source": [
        "# 종류별 그룹 나눈 후 정렬\n",
        "\n",
        "import re\n",
        "\n",
        "def get_type_priority(s):\n",
        "    if s.isdigit():\n",
        "        return (0, s)  # 숫자 그룹\n",
        "    elif re.match(r'^[a-zA-Z]+$', s):\n",
        "        return (1, s.lower())  # 알파벳 그룹 (대소문자 구분 X)\n",
        "    elif re.match(r'^[가-힣]+$', s):\n",
        "        return (2, s)  # 한글 그룹\n",
        "    else:\n",
        "        return (3, s)  # 기타\n",
        "\n",
        "sorted_list = sorted(mixed_list, key=get_type_priority)\n",
        "sorted_list\n",
        "# 숫자 > 알파벳 > 한글(유니코드 순서: 가,나,다)"
      ],
      "metadata": {
        "id": "iUF5EMuVn9jh"
      },
      "execution_count": null,
      "outputs": []
    },
    {
      "cell_type": "markdown",
      "source": [
        " - **로케일을 고려한 정렬** (한글 가나다 순 등)\n",
        "    - 숫자 > 알파벳(대문자 > 소문자) > 한글(유니코드 순서: 가,나,다)"
      ],
      "metadata": {
        "id": "Ak1PH0ezobml"
      }
    },
    {
      "cell_type": "code",
      "source": [
        "import locale\n",
        "from functools import cmp_to_key\n",
        "\n",
        "# 사용 가능한 로케일 출력\n",
        "print(locale.locale_alias['ko_kr'])  # Windows일 경우 'kor'로 출력될 수도 있음\n",
        "\n",
        "# 로케일 설정 시도 (운영체제에 따라 달라질 수 있음)\n",
        "try:\n",
        "    locale.setlocale(locale.LC_ALL, 'ko_KR.UTF-8')  # Linux/macOS\n",
        "except locale.Error:\n",
        "    try:\n",
        "        locale.setlocale(locale.LC_ALL, 'korean')   # Windows 용\n",
        "    except locale.Error:\n",
        "        print(\"한국어 로케일을 설정할 수 없습니다. 시스템에서 지원되지 않을 수 있습니다.\")\n",
        "\n",
        "\n",
        "# locale.strcoll를 key로 사용\n",
        "sorted_list = sorted(mixed_list, key=cmp_to_key(locale.strcoll))\n",
        "sorted_list\n",
        "#"
      ],
      "metadata": {
        "id": "A3pWu-p_ofRE"
      },
      "execution_count": null,
      "outputs": []
    },
    {
      "cell_type": "markdown",
      "source": [
        "\n",
        "\n",
        "---\n",
        "\n"
      ],
      "metadata": {
        "id": "96KZxucEKvKw"
      }
    },
    {
      "cell_type": "markdown",
      "source": [
        "# **4. 이미지 데이터 정렬**"
      ],
      "metadata": {
        "id": "g6ASuk25_yDs"
      }
    },
    {
      "cell_type": "markdown",
      "source": [
        "## **이미지 개요**\n",
        "\n",
        "- **픽셀 pixel**이란?\n",
        "    - 이미지를 구성하는 가장 작은 단위 (화소)\n",
        "    - 하나의 픽셀은 색상 정보를 담고 있는 데이터 단위\n",
        "    - 픽셀의 크기는 **컬러 표현 방식(비트 뎁스, 비트 깊이)**에 따라 달라진다."
      ],
      "metadata": {
        "id": "F5etzkXjeaOV"
      }
    },
    {
      "cell_type": "markdown",
      "source": [
        "- **컬러 모드별 픽셀 크기**\n"
      ],
      "metadata": {
        "id": "jSU3s7QmerMs"
      }
    },
    {
      "cell_type": "markdown",
      "source": [
        "|컬러 모드 |설명 | 비트 수|바이트 수 |\n",
        "|--- |--- | ---|--- |\n",
        "|1-bit (흑백)|0 or 1 (흑/백만)|1비트|1/8 바이트|\n",
        "|L (Grayscale)|밝기만 표현 (0~255)|8비트|1 바이트|\n",
        "|RGB|\"R, G, B 각 채널이 8비트\"|24비트|3 바이트|\n",
        "|RGBA|RGB + Alpha(투명도)|32비트|4 바이트|\n",
        "|CMYK|\"인쇄용 색상(Cyan, Magenta, Yellow, Black)\"|32비트|4 바이트|\n",
        "|16-bit grayscale|고해상도 흑백 (0~65535)|16비트|2 바이트|\n",
        "|HDR 이미지 (예: float32 RGB)|고정밀 이미지 표현|96비트|12 바이트|\n",
        "\n"
      ],
      "metadata": {
        "id": "ItSz_9Fue-i0"
      }
    },
    {
      "cell_type": "code",
      "source": [
        "from PIL import Image\n",
        "import numpy as np\n",
        "\n",
        "img = Image.open(\"cat.jpg\")\n",
        "print(\"모드:\", img.mode)  # 예: 'RGB'\n",
        "print(\"해상도:\", img.size)  # (width, height)\n",
        "\n",
        "# 픽셀 수\n",
        "width, height = img.size\n",
        "pixels = width * height\n",
        "\n",
        "# 총 바이트 수 (RGB 기준)\n",
        "total_bytes = pixels * 3  # RGB는 픽셀당 3바이트\n",
        "print(f\"총 바이트 수 (추정): {total_bytes:,} Bytes\")\n"
      ],
      "metadata": {
        "id": "iP3NBXhyfvFd"
      },
      "execution_count": null,
      "outputs": []
    },
    {
      "cell_type": "markdown",
      "source": [
        "## **이미지 데이터 준비하기**"
      ],
      "metadata": {
        "id": "y8PbNWy7EPEz"
      }
    },
    {
      "cell_type": "markdown",
      "source": [
        "### **[실습]** 이미지 데이터 다운로드\n",
        "1.  https://www.pexels.com/api/ 회원가입\n",
        "2. \"Get Started\" 클릭 후 API Key 복사\n",
        "3. SEARCH_QUERY : cats(jpg), dogs(jpg), cars(gif), flowers(png)"
      ],
      "metadata": {
        "id": "lUbG_ahL7KWd"
      }
    },
    {
      "cell_type": "code",
      "source": [
        "from tqdm import tqdm  # tqdm: 긴 시간 동안 실행되는 반복문의 진행 상황을 사용자에게 알려주는 라이브러리\n",
        "import time\n",
        "\n",
        "for i in tqdm(range(100)):\n",
        "    time.sleep(0.1) # 각 반복에 약간의 시간 지연을 줍니다.\n",
        "print(\"작업 완료!\")"
      ],
      "metadata": {
        "id": "5uJOMYH--yzg"
      },
      "execution_count": null,
      "outputs": []
    },
    {
      "cell_type": "code",
      "source": [
        "import os\n",
        "import requests\n",
        "from tqdm import tqdm\n",
        "\n",
        "# ➡️ Pexels API Key 입력\n",
        "PEXELS_API_KEY = 'your_api_key'  # 여기에 본인의 키를 입력하세요\n",
        "\n",
        "# ➡️ 검색 키워드 및 저장 폴더\n",
        "SEARCH_QUERY = 'cats'\n",
        "SAVE_FOLDER = 'images'\n",
        "IMAGES_TO_DOWNLOAD = 100  # 총 몇 장 다운로드할 것인지\n",
        "\n",
        "# ➡️ API 요청 함수\n",
        "def search_images(query, per_page=30, page=1):\n",
        "    headers = {\n",
        "        \"Authorization\": PEXELS_API_KEY\n",
        "    }\n",
        "    url = f\"https://api.pexels.com/v1/search?query={query}&per_page={per_page}&page={page}\"\n",
        "    response = requests.get(url, headers=headers)\n",
        "    return response.json()\n",
        "\n",
        "# ➡️ 이미지 다운로드 함수\n",
        "def download_image(url, save_path):\n",
        "    r = requests.get(url, stream=True)\n",
        "    if r.status_code == 200:\n",
        "        with open(save_path, 'wb') as f:\n",
        "            for chunk in r.iter_content(1024):  # 1024바이트 크기의 덩어리(chunk)로 나누어 순회 저장\n",
        "                f.write(chunk)\n",
        "\n",
        "# ➡️ 이미지 검색 & 다운로드 실행\n",
        "os.makedirs(SAVE_FOLDER, exist_ok=True)\n",
        "\n",
        "downloaded = 0\n",
        "page = 1\n",
        "while downloaded < IMAGES_TO_DOWNLOAD:\n",
        "    data = search_images(SEARCH_QUERY, per_page=30, page=page)\n",
        "    photos = data.get('photos', [])\n",
        "\n",
        "    if not photos:\n",
        "        print(\"이미지를 더 이상 찾을 수 없습니다.\")\n",
        "        break\n",
        "\n",
        "    for photo in photos:\n",
        "        image_url = photo['src']['large']\n",
        "        filename = f\"{SEARCH_QUERY}_{downloaded+1}.png\"\n",
        "        save_path = os.path.join(SAVE_FOLDER, filename)\n",
        "        download_image(image_url, save_path)\n",
        "        downloaded += 1\n",
        "        tqdm.write(f\"다운로드 완료: {filename}\")\n",
        "\n",
        "        if downloaded >= IMAGES_TO_DOWNLOAD:\n",
        "            break\n",
        "    page += 1\n",
        "\n",
        "print(f\"\\n총 {downloaded}장의 이미지를 '{SAVE_FOLDER}' 폴더에 저장했습니다.\")\n"
      ],
      "metadata": {
        "collapsed": true,
        "id": "hsP1Axk87TN8"
      },
      "execution_count": null,
      "outputs": []
    },
    {
      "cell_type": "markdown",
      "source": [
        "## **이미지 데이터 속성**"
      ],
      "metadata": {
        "id": "NgzqAlIs34_H"
      }
    },
    {
      "cell_type": "markdown",
      "source": [
        "- 이미지 파일 : JPG, PNG 등 확장자를 갖는 파일\n",
        "- **이미지 속성**:\n",
        "    - 파일명(파일명/날짜/이름)\n",
        "    - 파일 용량 (bytes)\n",
        "    - 해상도 (Width x Height)\n",
        "    - 이미지 모드 (RGB, L 등) : '1' (Binary image), 'L' (Grayscale image), 'RGB' (Red, Green, Blue)\n",
        "    - 밝기 (Grayscale 평균값)\n",
        "    - 색상 (평균 RGB, 색상 히스토그램 등)\n"
      ],
      "metadata": {
        "id": "vA7f1rnV39lj"
      }
    },
    {
      "cell_type": "markdown",
      "source": [
        "### **[실습]** 이미지 데이터 속성 추출하기"
      ],
      "metadata": {
        "id": "EVZoGmb45beb"
      }
    },
    {
      "cell_type": "code",
      "source": [
        "pip install pillow numpy pandas"
      ],
      "metadata": {
        "id": "bgFY341q6e7l"
      },
      "execution_count": null,
      "outputs": []
    },
    {
      "cell_type": "code",
      "source": [
        "import os\n",
        "from PIL import Image\n",
        "import numpy as np\n",
        "import pandas as pd\n",
        "\n",
        "def extract_image_features(image_path):\n",
        "    try:\n",
        "        img = Image.open(image_path)\n",
        "        img_array = np.array(img)\n",
        "\n",
        "        # ➡️ 기본 속성\n",
        "        filename = os.path.basename(image_path)\n",
        "        file_size = os.path.getsize(image_path)  # bytes\n",
        "        width, height = img.size\n",
        "        mode = img.mode\n",
        "\n",
        "        # ➡️ 밝기 (Grayscale 변환 후 평균)\n",
        "        grayscale = img.convert('L')\n",
        "        brightness = np.array(grayscale).mean()\n",
        "\n",
        "        # ➡️ RGB 평균\n",
        "        if img.mode in ['RGB', 'RGBA']:\n",
        "            rgb_array = np.array(img.convert('RGB'))\n",
        "            avg_color = rgb_array.mean(axis=(0, 1))  # R, G, B 평균값\n",
        "        else:\n",
        "            avg_color = [None, None, None]\n",
        "\n",
        "        return {\n",
        "            '파일명': filename,\n",
        "            '파일크기(Bytes)': file_size,\n",
        "            '해상도': f\"{width}x{height}\",\n",
        "            '모드': mode,\n",
        "            '평균밝기': round(brightness, 2),\n",
        "            'R평균': round(avg_color[0], 2) if avg_color[0] else None,\n",
        "            'G평균': round(avg_color[1], 2) if avg_color[1] else None,\n",
        "            'B평균': round(avg_color[2], 2) if avg_color[2] else None\n",
        "        }\n",
        "\n",
        "    except Exception as e:\n",
        "        print(f\"Error processing {image_path}: {e}\")\n",
        "        return None\n",
        "\n",
        "# 이미지 폴더 경로\n",
        "image_folder = 'images'  # 여기에 실제 경로 입력\n",
        "image_files = [os.path.join(image_folder, f)\n",
        "               for f in os.listdir(image_folder)\n",
        "               if f.lower().endswith(('.jpg', '.jpeg', '.png','gif'))]\n",
        "\n",
        "# 속성 추출\n",
        "image_data = [extract_image_features(img_path) for img_path in image_files]\n",
        "image_data = [d for d in image_data if d is not None]\n",
        "\n",
        "# 데이터프레임 보기 좋게 출력\n",
        "df = pd.DataFrame(image_data)\n",
        "display(df)\n"
      ],
      "metadata": {
        "id": "00mg3zIm5tgZ"
      },
      "execution_count": null,
      "outputs": []
    },
    {
      "cell_type": "markdown",
      "source": [
        "### **[실습]** 이미지 속성 데이터 정렬"
      ],
      "metadata": {
        "id": "ooZB0hYPGLsY"
      }
    },
    {
      "cell_type": "markdown",
      "source": [
        "1. **Pandas DataFrame 컬럼기준 정렬하기**"
      ],
      "metadata": {
        "id": "mDrx8aEcHBDx"
      }
    },
    {
      "cell_type": "code",
      "source": [
        "# 평균밝기 컬럼을 내림차순으로 정렬하기\n",
        "df.sort_values(by='파일명', ascending=True).head(5)"
      ],
      "metadata": {
        "id": "oUbB0w_cErWl"
      },
      "execution_count": null,
      "outputs": []
    },
    {
      "cell_type": "code",
      "source": [
        "# ['해상도','파일크기(Bytes)'] 컬럼순으로 내림차순으로 정렬하기\n",
        "df.sort_values(by='평균밝기', ascending=False).head(5)\n",
        "df.sort_values(by=['해상도','파일크기(Bytes)'], ascending=[False,True]).head(5)"
      ],
      "metadata": {
        "id": "H9sN_t4vFok4"
      },
      "execution_count": null,
      "outputs": []
    },
    {
      "cell_type": "markdown",
      "source": [
        "2. **밝기 기반 정렬하기**\n",
        "<br>이미지를 그레이스케일로 변환한 후, 평균 밝기를 구해서 정렬합니다."
      ],
      "metadata": {
        "id": "PBRcRjOr4XUF"
      }
    },
    {
      "cell_type": "code",
      "source": [
        "# 밝기 기반 정렬\n",
        "from PIL import Image\n",
        "import os\n",
        "import numpy as np\n",
        "\n",
        "\n",
        "# ➡️ 이미지를 밝기 값으로 정렬하기\n",
        "def get_avg_brightness(image_path):\n",
        "    image = Image.open(image_path).convert('L')  # L = grayscale\n",
        "    arr = np.array(image)\n",
        "    return arr.mean()\n",
        "\n",
        "image_folder = 'images'     # 이미지 폴더\n",
        "# image_files = [f for f in os.listdir(image_folder) if f.endswith('.jpg')]\n",
        "image_files = [f for f in os.listdir(image_folder)]\n",
        "\n",
        "# 내장 정렬 함수 사용하여 정렬\n",
        "sorted_images = sorted(\n",
        "    image_files,\n",
        "    key=lambda x: get_avg_brightness(os.path.join(image_folder, x))\n",
        ")\n",
        "\n",
        "print(sorted_images[:3])    # 밝기값 내림차순\n",
        "print(sorted_images[::10])\n"
      ],
      "metadata": {
        "id": "uPRZ5ypqBa2X"
      },
      "execution_count": null,
      "outputs": []
    },
    {
      "cell_type": "markdown",
      "source": [
        "- 이미지 그래프에 시각화하기"
      ],
      "metadata": {
        "id": "TZr346DtNmG_"
      }
    },
    {
      "cell_type": "code",
      "source": [
        "from PIL import Image\n",
        "import matplotlib.pyplot as plt\n",
        "import numpy as np\n",
        "\n",
        "# ➡️ 이미지를 나란히 그래프로 시각화하기\n",
        "def visualize_resized_images(image_paths):\n",
        "    \"\"\"\n",
        "    1.주어진 이미지 리스트의 이미지들을 동일한 크기로 조정(200x200)\n",
        "    2.2행 3열 (또는 이미지 개수에 따른 열) 그래프에 시각화\n",
        "    3.1행에는 원본 이미지, 2행에는 grayscale 이미지 나타냄\n",
        "    \"\"\"\n",
        "    target_size = (200, 200)  # 목표로 하는 이미지 크기 (원하는 가로, 세로 크기로 변경 가능)\n",
        "    original_images = []\n",
        "    grayscale_images = []\n",
        "\n",
        "    for path in image_paths:\n",
        "        try:\n",
        "            img = Image.open(path)\n",
        "            resized_img = img.resize(target_size)       # 크기 변환\n",
        "            original_images.append(resized_img)\n",
        "            grayscale_img = resized_img.convert(\"L\")    # Grayscale로 변환\n",
        "            grayscale_images.append(grayscale_img)\n",
        "        except FileNotFoundError:\n",
        "            print(f\"경로 '{path}'에 파일이 없습니다.\")\n",
        "            continue\n",
        "\n",
        "\n",
        "    if len(original_images) > 0:\n",
        "        num_images = len(original_images)\n",
        "        fig, axes = plt.subplots(2, num_images, figsize=(2 * num_images, 4)) # 2행으로 변경, 전체 그래프 높이 조절\n",
        "\n",
        "        if num_images == 1:\n",
        "            axes = [[axes[0]], [axes[1]]] # 이미지가 하나일 경우 axes를 2D 리스트 형태로 처리\n",
        "\n",
        "        for i in range(num_images):\n",
        "            # 원본 이미지 시각화 (1행)\n",
        "            original_img_array = np.array(original_images[i])\n",
        "            axes[0][i].imshow(original_img_array)\n",
        "            axes[0][i].set_title(f\"Original {i+1}\")\n",
        "            axes[0][i].axis('off')\n",
        "\n",
        "            # grayscale 이미지 시각화 (2행)\n",
        "            grayscale_img_array = np.array(grayscale_images[i])\n",
        "            grayscale_img_array.mean()\n",
        "            axes[1][i].imshow(grayscale_img_array, cmap='gray') # grayscale 이미지는 cmap='gray' 설정\n",
        "            axes[1][i].set_title(f\"Grayscale {grayscale_img_array.mean():.1f}\")  # grayscale 평균값\n",
        "            axes[1][i].axis('off')\n",
        "\n",
        "        plt.tight_layout()\n",
        "        plt.show()\n",
        "    else:\n",
        "        print(\"이미지 리스트가 비어 있습니다.\")\n",
        "\n",
        "\n",
        "# 사용할 이미지 파일 경로 리스트\n",
        "image_list = ['cars_7.gif', 'flowers_75.png', 'cars_70.gif']  # 이름 직접 지정\n",
        "image_list = sorted_images[::10][:3]    # 10개씩 건너띄어 3개 이미지\n",
        "# image_list = [image_folder + '/' + filename for filename in image_list]\n",
        "image_list = [os.path.join(image_folder, filename) for filename in image_list]\n",
        "\n",
        "# 함수 호출\n",
        "visualize_resized_images(image_list)\n"
      ],
      "metadata": {
        "id": "FBjxVT3HJPJe"
      },
      "execution_count": null,
      "outputs": []
    },
    {
      "cell_type": "markdown",
      "source": [
        "2. **색상(RGB) 평균값 기반 정렬**\n",
        "<br> 파란색 평균값 기반 정렬"
      ],
      "metadata": {
        "id": "iqVTmt9q4ex7"
      }
    },
    {
      "cell_type": "code",
      "source": [
        "def get_avg_color(image_path):\n",
        "    image = Image.open(image_path).resize((50, 50))  # 계산 속도 개선\n",
        "    arr = np.array(image)\n",
        "    return arr[:, :, :3].mean(axis=(0, 1))  # RGB 평균  arr[:, :, :3]=[행.열,면]\n",
        "\n",
        "# # R값 기준 정렬\n",
        "# sorted_images_by_r = sorted(image_files, key=lambda x: get_avg_color(os.path.join(image_folder, x))[0])\n",
        "# # G값 기준 정렬\n",
        "# sorted_images_by_r = sorted(image_files, key=lambda x: get_avg_color(os.path.join(image_folder, x))[1])\n",
        "# B값 기준 정렬\n",
        "sorted_images_by_r = sorted(image_files,\n",
        "                            key=lambda x: get_avg_color(os.path.join(image_folder, x))[2],\n",
        "                            reverse=True)\n",
        "\n",
        "# print(sorted_images_by_r[:3])\n",
        "# print(sorted_images[::50])\n",
        "\n",
        "# 사용할 이미지 파일 경로 리스트\n",
        "image_list = sorted_images[::10][:3]    # 50개씩 건너띄어 3개 이미지\n",
        "image_list = [image_folder + '/' + filename for filename in image_list]\n",
        "# image_list = [os.path.join(image_folder, filename) for filename in image_list]\n",
        "\n",
        "# 함수 호출\n",
        "visualize_resized_images(image_list)"
      ],
      "metadata": {
        "id": "GZ1Yy0GC440b"
      },
      "execution_count": null,
      "outputs": []
    },
    {
      "cell_type": "markdown",
      "source": [
        "- **파란색 평균 값에 가중치 부여**"
      ],
      "metadata": {
        "id": "VVoZ2wRIUu89"
      }
    },
    {
      "cell_type": "code",
      "source": [
        "def get_blue_distribution_score_weighted_avg(image_path):\n",
        "    image = Image.open(image_path).resize((50, 50))\n",
        "    arr = np.array(image)\n",
        "    rgb_avg = arr[:, :, :3].mean(axis=(0, 1))\n",
        "    r_avg, g_avg, b_avg = rgb_avg\n",
        "    # 간단하게 파란색 평균에서 다른 색상 평균을 빼서 가중치를 부여\n",
        "    score = b_avg - (r_avg + g_avg) / 2\n",
        "    return score\n",
        "\n",
        "# 파란색 분포 점수를 기준으로 내림차순 정렬\n",
        "sorted_images_by_blue_distribution = sorted(image_files,\n",
        "                                             key=lambda x: get_blue_distribution_score_weighted_avg(os.path.join(image_folder, x)),\n",
        "                                             reverse=True)\n",
        "\n",
        "print(sorted_images_by_blue_distribution[::10])\n",
        "\n",
        "# 사용할 이미지 파일 경로 리스트\n",
        "image_list = sorted_images_by_blue_distribution[::10][:3]    # 50개씩 건너띄어 3개 이미지\n",
        "image_list = [os.path.join(image_folder, filename) for filename in image_list]\n",
        "\n",
        "# 함수 호출\n",
        "visualize_resized_images(image_list)"
      ],
      "metadata": {
        "id": "Z3vId6m_OPDt"
      },
      "execution_count": null,
      "outputs": []
    },
    {
      "cell_type": "markdown",
      "source": [
        "- **특정 임계값 이상의 파란색 픽셀 비율 활용**"
      ],
      "metadata": {
        "id": "kOxP68-EVV6i"
      }
    },
    {
      "cell_type": "code",
      "source": [
        "def get_blue_distribution_score_threshold(image_path):\n",
        "    image = Image.open(image_path).resize((50, 50))\n",
        "    arr = np.array(image)\n",
        "    blue_channel = arr[:, :, 2]  # 파란색 채널 추출\n",
        "    threshold = 200  # 파란색으로 간주할 임계값 (조정 가능)\n",
        "    blue_pixels_count = np.sum(blue_channel > threshold)\n",
        "    total_pixels = arr.shape[0] * arr.shape[1]\n",
        "    blue_ratio = blue_pixels_count / total_pixels\n",
        "    return blue_ratio\n",
        "\n",
        "\n",
        "# 파란색 분포 점수를 기준으로 내림차순 정렬\n",
        "sorted_images_by_blue_distribution_threshold = sorted(image_files,\n",
        "                                             key=lambda x: get_blue_distribution_score_threshold(os.path.join(image_folder, x)),\n",
        "                                             reverse=True)\n",
        "print(sorted_images_by_blue_distribution_threshold[::50])\n",
        "\n",
        "# 사용할 이미지 파일 경로 리스트\n",
        "image_list = sorted_images_by_blue_distribution_threshold[::10][:3]    # 50개씩 건너띄어 3개 이미지\n",
        "image_list = [os.path.join(image_folder, filename) for filename in image_list]\n",
        "\n",
        "# 함수 호출\n",
        "visualize_resized_images(image_list)"
      ],
      "metadata": {
        "id": "DCCaCy4pVWEH"
      },
      "execution_count": null,
      "outputs": []
    },
    {
      "cell_type": "markdown",
      "source": [
        "\n",
        "\n",
        "---\n",
        "\n"
      ],
      "metadata": {
        "id": "-hpa9WWR5F99"
      }
    },
    {
      "cell_type": "markdown",
      "source": [
        "## **정렬 알고리즘 실습**\n",
        "- [주의!] 수업시간에 사용한 알고리즘으로 정렬하면 시간이 오래 걸린다. 이미지 갯수를 작게 해서 테스트하기!"
      ],
      "metadata": {
        "id": "A-hkJcHK4fLG"
      }
    },
    {
      "cell_type": "code",
      "source": [
        "# ➡️ 이미지를 밝기 값으로 정렬하기\n",
        "def get_avg_brightness(image_path):\n",
        "    \"\"\"이미지의 평균 밝기 계산 (에러 처리 포함)\"\"\"\n",
        "    try:\n",
        "        if not os.path.exists(image_path):\n",
        "            print(f\"⚠️ 파일이 존재하지 않습니다: {image_path}\")\n",
        "            return 0\n",
        "\n",
        "        image = Image.open(image_path).convert('L')\n",
        "        arr = np.array(image)\n",
        "        brightness = arr.mean()\n",
        "        return brightness\n",
        "\n",
        "    except Exception as e:\n",
        "        print(f\"⚠️ 오류 발생 ({os.path.basename(image_path)}): {e}\")\n",
        "        return 0"
      ],
      "metadata": {
        "id": "p0w6KseZikWP"
      },
      "execution_count": null,
      "outputs": []
    },
    {
      "cell_type": "code",
      "execution_count": null,
      "metadata": {
        "id": "1Iv4p8hnq0z-",
        "collapsed": true
      },
      "outputs": [],
      "source": [
        "# ➡️ 버블 정렬 알고리즘 구현\n",
        "def bubble_sort_images(image_path, n):\n",
        "    for i in range(n):\n",
        "        for j in range(0, n - i - 1):\n",
        "            brightness_j = get_avg_brightness(image_path[j])\n",
        "            brightness_next = get_avg_brightness(image_path[j + 1])\n",
        "            if brightness_j > brightness_next:\n",
        "                image_path[j], image_path[j + 1] = image_path[j + 1], image_path[j]\n",
        "    return image_path\n"
      ]
    },
    {
      "cell_type": "code",
      "source": [
        "# 이미지 폴더 지정\n",
        "image_folder = 'images'  # 다운로드한 이미지 폴더\n",
        "image_files = [f for f in os.listdir(image_folder) if f.lower().endswith(('jpg'))]\n",
        "image_files = image_files[:10]\n",
        "print(image_files)\n",
        "image_path = [os.path.join(image_folder, f) for f in image_files]\n",
        "\n",
        "# 정렬 실행\n",
        "sorted_images_bubble = bubble_sort_images(image_path, len(image_path) )\n",
        "\n",
        "# 결과 출력\n",
        "print(\"\\n📸 밝기 순으로 정렬된 이미지 목록:\")\n",
        "for img in sorted_images:\n",
        "    print(img, os.path.basename(img) )\n",
        "    print(f\"{os.path.basename(img)} → 밝기: {round(get_avg_brightness(img), 2)}\")"
      ],
      "metadata": {
        "id": "U4E1iReMm8W0"
      },
      "execution_count": null,
      "outputs": []
    },
    {
      "cell_type": "markdown",
      "source": [
        "### **[실습]** 퀵 정렬 알고리즘을 이용하여 이미지 밝기값 정렬"
      ],
      "metadata": {
        "id": "1bUEU3nGnFD8"
      }
    },
    {
      "cell_type": "code",
      "source": [
        "# ➡️ 퀵 정렬 함수\n",
        "def quick_sort_images(image_path, n):\n",
        "    if n <= 1:\n",
        "        return image_path\n",
        "\n",
        "    pivot = image_path[0]\n",
        "    pivot_brightness = get_avg_brightness(pivot)\n",
        "\n",
        "    less = [img for img in image_path[1:] if get_avg_brightness(img) <= pivot_brightness]\n",
        "    greater = [img for img in image_path[1:] if get_avg_brightness(img) > pivot_brightness]\n",
        "\n",
        "    return quick_sort_images(less, len(less)) + [pivot] + quick_sort_images(greater, len(greater))"
      ],
      "metadata": {
        "id": "_915qe95iVwS"
      },
      "execution_count": null,
      "outputs": []
    },
    {
      "cell_type": "code",
      "source": [
        "# ➡️ 정렬 실행\n",
        "sorted_images_quick = quick_sort_images(image_path, len(image_path) )\n",
        "\n",
        "\n",
        "# ➡️ 결과 출력\n",
        "print(\"\\n📸 밝기 순으로 정렬된 이미지 목록:\")\n",
        "for img in sorted_images:\n",
        "    print(f\"{os.path.basename(img)} → 밝기: {round(get_avg_brightness(img), 2)}\")\n",
        "\n",
        "\n",
        "# ➡️ 버블 정렬과 결과가 동일한지 확인\n",
        "print(f\"Sort results {'⭕ Match' if sorted_images_bubble == sorted_images_quick else '❌ Mismatch'}\")\n"
      ],
      "metadata": {
        "id": "Lxmo2C9uip1C"
      },
      "execution_count": null,
      "outputs": []
    },
    {
      "cell_type": "markdown",
      "source": [
        "\n",
        "\n",
        "---\n",
        "\n"
      ],
      "metadata": {
        "id": "d0-sIrWa5H1A"
      }
    },
    {
      "cell_type": "markdown",
      "source": [
        "# **5. AI 이미지 데이터 정렬**"
      ],
      "metadata": {
        "id": "nXOfqtij5Qw9"
      }
    },
    {
      "cell_type": "markdown",
      "source": [
        "\n",
        "\n",
        "---\n",
        "\n",
        "\n",
        "- 💡 **NOTE**\n",
        "    - 이 노트북의 코드를 실행하려면 GPU를 사용하는 것이 좋습니다. 구글 코랩에서는 **런타임 > 런타임 유형 변경 > 하드웨어 가속기 > T4 GPU**를 선택하세요.\n",
        "\n",
        "\n",
        "\n",
        "---\n",
        "\n",
        "\n"
      ],
      "metadata": {
        "id": "KHIcfXn8RArA"
      }
    },
    {
      "cell_type": "markdown",
      "source": [
        "## **이미지 정보 추출하기**\n",
        "- 파일명\n",
        "- AI 이미지 분류 태그명 (예: \"Golden Retriever\", \"Mountain Bike\")\n",
        "- Feature Vector (ViT 모델의 출력 벡터)"
      ],
      "metadata": {
        "id": "QVGqlEjQ1zcu"
      }
    },
    {
      "cell_type": "code",
      "source": [
        "# 라이브러리 설치 (필요 시)\n",
        "!pip install transformers torch torchvision scikit-learn matplotlib pillow --quiet"
      ],
      "metadata": {
        "id": "vBRMdFXO3IGI"
      },
      "execution_count": null,
      "outputs": []
    },
    {
      "cell_type": "code",
      "source": [
        "# 1. 라이브러리 설치 (필요 시)\n",
        "#!pip install transformers torch pandas pillow --quiet\n",
        "\n",
        "# 2. 라이브러리 import\n",
        "import os\n",
        "import torch\n",
        "import pandas as pd\n",
        "from PIL import Image\n",
        "from transformers import ViTFeatureExtractor, ViTModel, ViTForImageClassification\n",
        "\n",
        "# 3. 모델 로드\n",
        "model_name = \"google/vit-base-patch16-224\"\n",
        "feature_extractor = ViTFeatureExtractor.from_pretrained(model_name)\n",
        "model_cls = ViTForImageClassification.from_pretrained(model_name)\n",
        "model_vec = ViTModel.from_pretrained(model_name)\n",
        "\n",
        "model_cls.eval()\n",
        "model_vec.eval()\n",
        "\n",
        "# 4. 이미지 디렉터리 설정\n",
        "image_folder = \"images\"\n",
        "image_files = [f for f in os.listdir(image_folder) if f.lower().endswith(('.png', '.jpg', '.jpeg'))]\n",
        "\n",
        "# 5. 특징 추출 함수\n",
        "def extract_features(img_path):\n",
        "    image = Image.open(img_path).convert(\"RGB\")\n",
        "    inputs = feature_extractor(images=image, return_tensors=\"pt\")\n",
        "\n",
        "    # 분류 태그\n",
        "    with torch.no_grad():\n",
        "        outputs_cls = model_cls(**inputs)\n",
        "        logits = outputs_cls.logits\n",
        "        pred_label_id = logits.argmax(-1).item()\n",
        "        label_name = model_cls.config.id2label[pred_label_id]\n",
        "\n",
        "    # feature vector 추출\n",
        "    with torch.no_grad():\n",
        "        outputs_vec = model_vec(**inputs)\n",
        "        cls_vector = outputs_vec.last_hidden_state[:, 0, :].squeeze().numpy()  # [CLS] token\n",
        "\n",
        "    return label_name, cls_vector\n",
        "\n",
        "# 6. 모든 이미지 처리\n",
        "data = []\n",
        "\n",
        "for fname in image_files:\n",
        "    path = os.path.join(image_folder, fname)\n",
        "    label, vec = extract_features(path)\n",
        "    row = {\n",
        "        \"filename\": fname,\n",
        "        \"label\": label,\n",
        "        **{f\"feat_{i}\": v for i, v in enumerate(vec)}  # feature vector 확장\n",
        "    }\n",
        "    data.append(row)\n",
        "\n",
        "# 7. pandas로 정리\n",
        "df = pd.DataFrame(data)\n",
        "\n",
        "# 8. 결과 미리보기\n",
        "print(df[['filename', 'label']].head())\n",
        "\n",
        "# 9. CSV로 저장\n",
        "df.to_csv(\"image_features_with_labels.csv\", index=False)\n"
      ],
      "metadata": {
        "id": "X6j8ILIF2ADb"
      },
      "execution_count": null,
      "outputs": []
    },
    {
      "cell_type": "markdown",
      "source": [
        "## **분류기반으로 자동 태깅 및 정렬**"
      ],
      "metadata": {
        "id": "IC17Qj8X0hu6"
      }
    },
    {
      "cell_type": "code",
      "source": [
        "# 1. 필요한 라이브러리 설치\n",
        "!pip install transformers torch torchvision matplotlib pillow --quiet\n",
        "\n",
        "\n",
        "# 2. 라이브러리 import\n",
        "import os\n",
        "import torch\n",
        "from PIL import Image\n",
        "from transformers import ViTFeatureExtractor, ViTForImageClassification\n",
        "import matplotlib.pyplot as plt\n",
        "\n",
        "# 3. 모델과 전처리기 로드 (사전학습된 이미지 분류 모델 사용)\n",
        "model_name = \"google/vit-base-patch16-224\"\n",
        "feature_extractor = ViTFeatureExtractor.from_pretrained(model_name)\n",
        "model = ViTForImageClassification.from_pretrained(model_name)\n",
        "\n",
        "# 4. 분류 함수 정의\n",
        "def classify_image(img_path):\n",
        "    image = Image.open(img_path).convert(\"RGB\")\n",
        "    inputs = feature_extractor(images=image, return_tensors=\"pt\")\n",
        "    with torch.no_grad():\n",
        "        outputs = model(**inputs)\n",
        "    logits = outputs.logits\n",
        "    predicted_label = logits.argmax(-1).item()\n",
        "    label_name = model.config.id2label[predicted_label]\n",
        "    return label_name\n",
        "\n",
        "# 5. 이미지 디렉터리 지정 및 태깅\n",
        "image_folder = \"images\"  # 예: 로컬 디렉터리 또는 colab에 업로드한 폴더\n",
        "tagged_images = []\n",
        "\n",
        "for file_name in sorted(os.listdir(image_folder)):\n",
        "    if file_name.lower().endswith(('.png', '.jpg', '.jpeg')):\n",
        "        img_path = os.path.join(image_folder, file_name)\n",
        "        tag = classify_image(img_path)\n",
        "        tagged_images.append((file_name, tag))\n",
        "\n",
        "# 6. 태그 기준으로 정렬\n",
        "tagged_images.sort(key=lambda x: x[1])  # 알파벳 순 정렬\n",
        "\n",
        "# 7. 결과 시각화\n",
        "def display_images_by_tag(tagged_images, image_folder, cols=4):\n",
        "    rows = (len(tagged_images) + cols - 1) // cols\n",
        "    plt.figure(figsize=(15, rows * 3))\n",
        "    for i, (fname, tag) in enumerate(tagged_images):\n",
        "        img = Image.open(os.path.join(image_folder, fname))\n",
        "        plt.subplot(rows, cols, i+1)\n",
        "        plt.imshow(img)\n",
        "        plt.title(f\"{tag}\")\n",
        "        plt.axis(\"off\")\n",
        "    plt.tight_layout()\n",
        "    plt.show()\n",
        "\n",
        "# 8. 출력\n",
        "display_images_by_tag(tagged_images, image_folder)"
      ],
      "metadata": {
        "id": "RD0wsz5Sytr-"
      },
      "execution_count": null,
      "outputs": []
    },
    {
      "cell_type": "markdown",
      "source": [
        "## **특징 벡터를 추출하여 클러스터링**\n",
        "- n_clusters = 3  # 원하는 클러스터 수"
      ],
      "metadata": {
        "id": "chA97PqO0MZS"
      }
    },
    {
      "cell_type": "code",
      "source": [
        "# 1. 라이브러리 설치\n",
        "# !pip install transformers torch torchvision scikit-learn matplotlib pillow --quiet\n",
        "\n",
        "\n",
        "# 2. 라이브러리 import\n",
        "import os\n",
        "import torch\n",
        "from PIL import Image\n",
        "import matplotlib.pyplot as plt\n",
        "from sklearn.cluster import KMeans\n",
        "from transformers import ViTFeatureExtractor, ViTModel\n",
        "import numpy as np\n",
        "\n",
        "\n",
        "# 3. 모델 및 전처리기 로드 (분류용이 아닌 feature vector용)\n",
        "model_name = \"google/vit-base-patch16-224\"\n",
        "feature_extractor = ViTFeatureExtractor.from_pretrained(model_name)\n",
        "model = ViTModel.from_pretrained(model_name)\n",
        "model.eval()  # 추론 모드\n",
        "\n",
        "\n",
        "# 4. 특징 벡터 추출 함수\n",
        "def extract_feature_vector(img_path):\n",
        "    image = Image.open(img_path).convert(\"RGB\")\n",
        "    inputs = feature_extractor(images=image, return_tensors=\"pt\")\n",
        "    with torch.no_grad():\n",
        "        outputs = model(**inputs)\n",
        "    # [CLS] token의 출력 벡터 사용 (1, hidden_dim)\n",
        "    cls_embedding = outputs.last_hidden_state[:, 0, :].squeeze().numpy()\n",
        "    return cls_embedding\n",
        "\n",
        "\n",
        "# 5. 이미지 디렉토리에서 특징 추출\n",
        "image_folder = \"images\"  # 본인의 이미지 디렉터리 지정\n",
        "image_vectors = []\n",
        "image_files = []\n",
        "\n",
        "for file_name in sorted(os.listdir(image_folder)):\n",
        "    if file_name.lower().endswith(('.png', '.jpg', '.jpeg')):\n",
        "        path = os.path.join(image_folder, file_name)\n",
        "        vec = extract_feature_vector(path)\n",
        "        image_vectors.append(vec)\n",
        "        image_files.append(file_name)\n",
        "\n",
        "\n",
        "# 6. KMeans 클러스터링 수행\n",
        "n_clusters = 3  # 원하는 클러스터 수\n",
        "kmeans = KMeans(n_clusters=n_clusters, random_state=42)\n",
        "clusters = kmeans.fit_predict(image_vectors)\n",
        "\n",
        "\n",
        "# 7. 클러스터링 결과 정리\n",
        "clustered_images = list(zip(image_files, clusters))\n",
        "clustered_images.sort(key=lambda x: x[1])  # 클러스터 번호 기준 정렬\n",
        "\n",
        "\n",
        "# 8. 시각화 함수\n",
        "def display_clustered_images(clustered_images, image_folder, cols=4):\n",
        "    rows = (len(clustered_images) + cols - 1) // cols\n",
        "    plt.figure(figsize=(15, rows * 3))\n",
        "    for i, (fname, cluster_id) in enumerate(clustered_images):\n",
        "        img = Image.open(os.path.join(image_folder, fname))\n",
        "        plt.subplot(rows, cols, i+1)\n",
        "        plt.imshow(img)\n",
        "        plt.title(f\"Cluster {cluster_id}\")\n",
        "        plt.axis(\"off\")\n",
        "    plt.tight_layout()\n",
        "    plt.show()\n",
        "\n",
        "\n",
        "# 9. 결과 출력\n",
        "display_clustered_images(clustered_images, image_folder)"
      ],
      "metadata": {
        "id": "gxis9QjDy--o"
      },
      "execution_count": null,
      "outputs": []
    }
  ]
}