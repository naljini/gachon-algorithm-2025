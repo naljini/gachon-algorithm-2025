{
  "nbformat": 4,
  "nbformat_minor": 0,
  "metadata": {
    "colab": {
      "provenance": [],
      "toc_visible": true,
      "include_colab_link": true
    },
    "kernelspec": {
      "name": "python3",
      "display_name": "Python 3"
    },
    "language_info": {
      "name": "python"
    }
  },
  "cells": [
    {
      "cell_type": "markdown",
      "metadata": {
        "id": "view-in-github",
        "colab_type": "text"
      },
      "source": [
        "<a href=\"https://colab.research.google.com/github/naljini/gachon-algorithm-2025/blob/main/_02_%EC%9E%90%EB%A3%8C%EA%B5%AC%EC%A1%B0%EA%B8%B0%EC%B4%88_%EB%A6%AC%EC%8A%A4%ED%8A%B8_%EB%B0%B0%ED%8F%AC.ipynb\" target=\"_parent\"><img src=\"https://colab.research.google.com/assets/colab-badge.svg\" alt=\"Open In Colab\"/></a>"
      ]
    },
    {
      "cell_type": "markdown",
      "source": [
        "# 자료구조 기초 - 2.기본 자료구조\n"
      ],
      "metadata": {
        "id": "-QI-sd4l0wig"
      }
    },
    {
      "cell_type": "markdown",
      "source": [
        "\n",
        "\n",
        "---\n",
        "\n"
      ],
      "metadata": {
        "id": "uBGG-GGq0wih"
      }
    },
    {
      "cell_type": "markdown",
      "source": [
        "# 리스트(List)\n",
        "- 가장 자유로운 **선형 자료구조**(**연결 자료구조**)\n",
        "- 각 자료는 순서 또는 위치(position)를 가짐 - 다양한 항목들을 저장, 조회할 수 있음\n",
        "- **장점**은 동적 메모리 할당이 가능\n",
        "- **단점**은 배열에 비해 노드 접근 시간이 느리고, 추가 메모리 공간(링크 필드)이 필요함"
      ],
      "metadata": {
        "id": "FtOgObuT0wih"
      }
    },
    {
      "cell_type": "markdown",
      "source": [
        "## 리스트 개요"
      ],
      "metadata": {
        "id": "ZIbWtzmiWtCh"
      }
    },
    {
      "cell_type": "markdown",
      "source": [
        "### @파이썬의 리스트 자료구조\n",
        "- 파이썬의 리스트는 연속된 메모리를 사용하는 배열구조\n",
        "- 단, 용량이 제한되지 않도록 동적 배열로 구현됨"
      ],
      "metadata": {
        "id": "RvUtvyKe2o4J"
      }
    },
    {
      "cell_type": "code",
      "execution_count": null,
      "metadata": {
        "id": "AVRl0m3b0ifL"
      },
      "outputs": [],
      "source": [
        "import numpy as np\n",
        "\n",
        "a = [1, 2.2, (3,4), \"5\", np.array([6,7]), {\"key8\": 9}, 10]\n",
        "print(f'a = {a} ')\n",
        "\n",
        "# 리스트 안에 function, class도 담을 수 있다\n",
        "def print_number(num):\n",
        "    print(\"function number : \", num)\n",
        "\n",
        "class Text:\n",
        "    def __init__(self, num):\n",
        "        self.num = num\n",
        "    def print_number_method(self):\n",
        "        print(\"method number : \", self.num)\n",
        "\n",
        "\n",
        "a_list = [1, print_number, Text]\n",
        "print(f'\\na_list = {a_list}\\n')\n",
        "\n",
        "c = a_list[1](10)\n",
        "print()\n",
        "\n",
        "d = a_list[2](20)\n",
        "d.print_number_method()"
      ]
    },
    {
      "cell_type": "markdown",
      "source": [
        "### @리스트의 주요 연산"
      ],
      "metadata": {
        "id": "6LwRY4m3Wy5c"
      }
    },
    {
      "cell_type": "markdown",
      "source": [
        " 연산 | 설명 |\n",
        "----|-----|\n",
        " **insert(pos, e)** | pos 위치에 새로운 데이터(요소) 삽입 |\n",
        " **delete(pos)** | pos 위치에 있는 요소 꺼내서 반환 |\n",
        " **getEntry(pos)** |  pos 위치에 있는 요소를 삭제하지 않고 반환 |\n",
        " **isEmpty()** | 리스트가 비어 있는지 여부 반환, True/False 반환 |\n",
        " **isFull()** |  리스트가 가득 차 있는지 확인, True/False 반환 |\n",
        " **size()** |  리스트에 들어 있는 전체 요소의 수 반환 |"
      ],
      "metadata": {
        "id": "nwPdJWbXW3z4"
      }
    },
    {
      "cell_type": "markdown",
      "source": [
        "### @리스트의 연산 동작"
      ],
      "metadata": {
        "id": "SKWwk8RKW84d"
      }
    },
    {
      "cell_type": "markdown",
      "source": [
        "https://pythontutor.com/ 에서 확인"
      ],
      "metadata": {
        "id": "X9k6sJx1yyt3"
      }
    },
    {
      "cell_type": "code",
      "source": [
        "class Node:\n",
        "    def __init__(self, data):\n",
        "        self.data = data  # 데이터\n",
        "        self.link = None  # 연결 링크\n",
        "\n",
        "class LinkedList:\n",
        "    def __init__(self):\n",
        "        self.head = None  # 헤더 포인터\n",
        "\n",
        "    def insert(self, pos, e): # 삽입 연산\n",
        "        new_node = Node(e)                 # 신규 노드 추가\n",
        "        if pos == 0:                       # 위치가 처음이면\n",
        "            new_node.link = self.head      # 신규 노드 링크는 헤드 포인터(null)로 지정\n",
        "            self.head = new_node           # 헤드 포인터는 신규 노드를 가르키도록 지정\n",
        "            return                         # 반환\n",
        "        current = self.head                # 추가 위치 찾기 위해 처음 지정하여 순회\n",
        "        count = 1                          #\n",
        "        while current and count < pos:     #\n",
        "            current = current.link         # 다음 진행\n",
        "            count += 1                     #\n",
        "        if current is None:\n",
        "            raise IndexError(\"Index out of bounds\")\n",
        "        new_node.link = current.link    # 현재 포인터\n",
        "        current.link = new_node\n",
        "\n",
        "    def delete(self, pos):       # 삭제 연산\n",
        "        if self.head is None:\n",
        "            raise IndexError(\"List is empty\")\n",
        "        if pos == 0:\n",
        "            self.head = self.head.link\n",
        "            return\n",
        "        current = self.head                        # 삭제 위치 찾기 위해 처음 지정하여 순회\n",
        "        count = 1                                  #\n",
        "        while current.link and count < pos:        #\n",
        "            current = current.link                 # 다음 진행\n",
        "            count += 1                             #\n",
        "        if current.link is None:\n",
        "            raise IndexError(\"Index out of bounds\")\n",
        "        current.link = current.next.link\n"
      ],
      "metadata": {
        "id": "6TnOsMqu17r5"
      },
      "execution_count": null,
      "outputs": []
    },
    {
      "cell_type": "code",
      "source": [
        "myList = LinkedList()\n",
        "myList.insert(0, 'A')\n",
        "myList.insert(1, 'B')\n",
        "myList.insert(1, 'C')\n",
        "myList.delete(0)"
      ],
      "metadata": {
        "id": "yT-a2hq7XHm3"
      },
      "execution_count": null,
      "outputs": []
    },
    {
      "cell_type": "markdown",
      "source": [
        "\n",
        "\n",
        "---\n",
        "\n"
      ],
      "metadata": {
        "id": "WRJaEikegEdd"
      }
    },
    {
      "cell_type": "markdown",
      "source": [
        "## 배열 구조 리스트 vs 연결된 구조 리스트"
      ],
      "metadata": {
        "id": "HxVoSDHggFA4"
      }
    },
    {
      "cell_type": "markdown",
      "source": [
        "* 배열 구조 리스트\n",
        "  - 모든 요소의 크기가 같다\n",
        "  - 연속된 메모리 공간에 있다\n",
        "* 연결된 구조 리스트\n",
        "  - 노드(node) : data + link"
      ],
      "metadata": {
        "id": "iUkCl2AogFNY"
      }
    },
    {
      "cell_type": "markdown",
      "source": [
        "### @리스트 요소들에 대한 접근\n",
        "- https://docs.python.org/ko/3/library/functions.html#id"
      ],
      "metadata": {
        "id": "KuV8_TL2glyh"
      }
    },
    {
      "cell_type": "code",
      "source": [
        "# 파이썬에서 메모리 위치 확인 :  리스트(name)와 리스트값(value)은 메모리 별도 관리됨\n",
        "myList = [10,20,30,40]\n",
        "print( id(myList) )\n",
        "print( id(myList[0]) )\n",
        "print( id(myList[1]) )"
      ],
      "metadata": {
        "id": "QR-aHbnsgpz_"
      },
      "execution_count": null,
      "outputs": []
    },
    {
      "cell_type": "markdown",
      "source": [
        "### @리스트의 용량"
      ],
      "metadata": {
        "id": "PHfhFC8dinSN"
      }
    },
    {
      "cell_type": "code",
      "source": [
        "# 1.리스트의 용량\n",
        "import sys\n",
        "\n",
        "# 빈 리스트 생성\n",
        "lst = []\n",
        "\n",
        "# 초기 리스트 크기\n",
        "print(f\"Empty list size: {sys.getsizeof(lst)} bytes\")\n",
        "\n",
        "# 리스트에 원소 추가하면서 크기 변화 확인\n",
        "for i in range(6):\n",
        "    lst.append(i)\n",
        "    print(f\"After adding {i}: Size = {sys.getsizeof(lst)} bytes, Length = {len(lst)}\")\n"
      ],
      "metadata": {
        "id": "lb3lJUswjcDk"
      },
      "execution_count": null,
      "outputs": []
    },
    {
      "cell_type": "code",
      "source": [
        "# 2. 각 데이터들의 크기\n",
        "a = [1,6,20,50,100,1000]\n",
        "\n",
        "for i in range(len(a)):\n",
        "    print(i, sys.getsizeof(a[i]), 'bytes', a[i])\n",
        "# value size : arr address(16) + address size(8) + int size(4)\n",
        "#  - metadata : arr address(16) + address size(8)\n",
        "#  - data valie : int size(4)"
      ],
      "metadata": {
        "id": "DBwllLmSirbQ"
      },
      "execution_count": null,
      "outputs": []
    },
    {
      "cell_type": "code",
      "source": [
        "'''\n",
        "sys.getsizeof(lst): 리스트 객체의 메타데이터 포함한 전체 크기 확인\n",
        "lst.__sizeof__(): 메타데이터 제외한 실제 리스트의 크기 확인\n",
        "sys.getsizeof(lst) - lst.__sizeof__(): 리스트의 관리 오버헤드 크기 계산\n",
        "'''\n",
        "lst = [1,6,20,50,100,1000]\n",
        "\n",
        "print(f\"List size (sys.getsizeof): {sys.getsizeof(lst)} bytes\")\n",
        "print(f\"List data size (__sizeof__): {lst.__sizeof__()} bytes\")\n",
        "print(f\"Overhead size: {sys.getsizeof(lst) - lst.__sizeof__()} bytes\")\n"
      ],
      "metadata": {
        "id": "jN1-XEzmkhoj"
      },
      "execution_count": null,
      "outputs": []
    },
    {
      "cell_type": "markdown",
      "source": [
        "### @파이썬 리스트는 배열 구조 리스트\n",
        "- 파이썬 리스트는 배열 구조 리스트\n",
        "- 용량이 제한되지 않도록 **동적 배열로 구현**됨\n",
        "- 용량 확장은 내부적으로 처리되므로 사용자는 신경을 쓰지 않아도 됨\n",
        "- 파이썬 리스트의 append() 연산의 처리 시간은 항상 동일하지 않음\n"
      ],
      "metadata": {
        "id": "6_rALPHmlp2d"
      }
    },
    {
      "cell_type": "markdown",
      "source": [
        "#### **파이썬 리스트 연산(함수)**\n",
        "- 1.요소 추가 연산\n",
        "    - append() : O(1) 평균 시간복잡도\n",
        "    - extend() : O(k) 시간복잡도 (k는 추가할 요소 개수)\n",
        "    - insert() : O(n) 시간복잡도\n",
        "- 2.검색 연산\n",
        "    - count() : O(n) 시간복잡도\n",
        "    - index() : O(n) 시간복잡도\n",
        "- 3.요소 제거 연산\n",
        "    - pop() with index : O(n) 시간복잡도\n",
        "    - pop() without index : O(1) 시간복잡도\n",
        "    - remove() : O(n) 시간복잡도\n",
        "- 4.리스트 조작 연산\n",
        "    - reverse() : O(n) 시간복잡도\n",
        "    - sort() - O(n log n) 시간복잡도\n",
        "    "
      ],
      "metadata": {
        "id": "Qy4QuU421PWe"
      }
    },
    {
      "cell_type": "code",
      "source": [
        "help(list)"
      ],
      "metadata": {
        "collapsed": true,
        "id": "rwY29euZ3Tf_"
      },
      "execution_count": null,
      "outputs": []
    },
    {
      "cell_type": "code",
      "source": [
        "# 파이썬 리스트 연산(함수)들\n",
        "def demonstrate_list_operations():\n",
        "    \"\"\"파이썬 리스트 연산들을 체계적으로 시연하는 함수\"\"\"\n",
        "\n",
        "    print(\"=\" * 60)\n",
        "    print(\"파이썬 리스트 연산 시연\")\n",
        "    print(\"=\" * 60)\n",
        "\n",
        "    # 초기 리스트 생성\n",
        "    my_list = [10, 20, 30, 40]\n",
        "    print(f\"초기 리스트: {my_list}\")\n",
        "    print(\"-\" * 60)\n",
        "\n",
        "\n",
        "    # 1. 요소 추가 연산들\n",
        "    print(\"✅ 요소 추가 연산들\")\n",
        "\n",
        "    # append() - O(1) 평균 시간복잡도\n",
        "    my_list.append(50)\n",
        "    print(f\"append(50)           → {my_list}\")\n",
        "    print(f\"   💡 리스트 끝에 하나의 요소 추가 (시간복잡도: O(1))\")\n",
        "\n",
        "    # extend() - O(k) 시간복잡도 (k는 추가할 요소 개수)\n",
        "    my_list.extend([10, 30, 50])\n",
        "    print(f\"extend([10,30,50])   → {my_list}\")\n",
        "    print(f\"   💡 여러 요소를 리스트 끝에 추가 (시간복잡도: O(k))\")\n",
        "\n",
        "    # insert() - O(n) 시간복잡도\n",
        "    my_list.insert(1, 60)\n",
        "    print(f\"insert(1, 60)        → {my_list}\")\n",
        "    print(f\"   💡 지정한 위치에 요소 삽입 (시간복잡도: O(n))\")\n",
        "    print()\n",
        "\n",
        "\n",
        "    # 2. 검색 연산들\n",
        "    print(\"✅ 검색 연산들\")\n",
        "\n",
        "    # count() - O(n) 시간복잡도\n",
        "    count_result = my_list.count(10)\n",
        "    print(f\"count(10)            → 결과: {count_result}, 리스트: {my_list}\")\n",
        "    print(f\"   💡 특정 값의 개수 반환 (시간복잡도: O(n))\")\n",
        "\n",
        "    # index() - O(n) 시간복잡도\n",
        "    try:\n",
        "        index_result = my_list.index(30)\n",
        "        print(f\"index(30)            → 결과: {index_result}, 리스트: {my_list}\")\n",
        "        print(f\"   💡 특정 값의 첫 번째 인덱스 반환 (시간복잡도: O(n))\")\n",
        "    except ValueError as e:\n",
        "        print(f\"index(30)            → 에러: {e}\")\n",
        "    print()\n",
        "\n",
        "\n",
        "    # 3. 요소 제거 연산들\n",
        "    print(\"✅ 요소 제거 연산들\")\n",
        "\n",
        "    # pop() with index - O(n) 시간복잡도\n",
        "    if len(my_list) > 2:\n",
        "        pop_result = my_list.pop(2)\n",
        "        print(f\"pop(2)               → 제거된 값: {pop_result}, 리스트: {my_list}\")\n",
        "        print(f\"   💡 지정한 인덱스의 요소 제거 후 반환 (시간복잡도: O(n))\")\n",
        "\n",
        "    # pop() without index - O(1) 시간복잡도\n",
        "    if my_list:\n",
        "        pop_result = my_list.pop()\n",
        "        print(f\"pop()                → 제거된 값: {pop_result}, 리스트: {my_list}\")\n",
        "        print(f\"   💡 마지막 요소 제거 후 반환 (시간복잡도: O(1))\")\n",
        "\n",
        "    # remove() - O(n) 시간복잡도\n",
        "    try:\n",
        "        my_list.remove(30)\n",
        "        print(f\"remove(30)           → {my_list}\")\n",
        "        print(f\"   💡 첫 번째로 발견되는 특정 값 제거 (시간복잡도: O(n))\")\n",
        "    except ValueError as e:\n",
        "        print(f\"remove(30)           → 에러: {e}\")\n",
        "    print()\n",
        "\n",
        "\n",
        "    # 4. 리스트 조작 연산들\n",
        "    print(\"✅ 리스트 조작 연산들\")\n",
        "\n",
        "    # reverse() - O(n) 시간복잡도\n",
        "    original_list = my_list.copy()\n",
        "    my_list.reverse()\n",
        "    print(f\"reverse()            → {my_list}\")\n",
        "    print(f\"   💡 리스트 순서를 뒤집음 (시간복잡도: O(n))\")\n",
        "    print(f\"   📋 원본: {original_list} → 뒤집힌 결과: {my_list}\")\n",
        "\n",
        "    # sort() - O(n log n) 시간복잡도\n",
        "    my_list.sort()\n",
        "    print(f\"sort()               → {my_list}\")\n",
        "    print(f\"   💡 리스트를 오름차순으로 정렬 (시간복잡도: O(n log n))\")\n",
        "    print()\n",
        "\n",
        "    # 5. 추가 정보\n",
        "    print(\"✅ 최종 상태 정보\")\n",
        "    print(f\"최종 리스트: {my_list}\")\n",
        "    print(f\"리스트 길이: {len(my_list)}\")\n",
        "    print(f\"리스트가 비어있는가: {len(my_list) == 0}\")\n",
        "\n",
        "# 함수 실행\n",
        "demonstrate_list_operations()\n"
      ],
      "metadata": {
        "colab": {
          "base_uri": "https://localhost:8080/"
        },
        "outputId": "2ab6832b-3676-4bd1-b0b6-4954bdb850a0",
        "id": "mPTp2KQj3TgA"
      },
      "execution_count": null,
      "outputs": [
        {
          "output_type": "stream",
          "name": "stdout",
          "text": [
            "============================================================\n",
            "파이썬 리스트 연산 시연\n",
            "============================================================\n",
            "초기 리스트: [10, 20, 30, 40]\n",
            "------------------------------------------------------------\n",
            "✅ 요소 추가 연산들\n",
            "append(50)           → [10, 20, 30, 40, 50]\n",
            "   💡 리스트 끝에 하나의 요소 추가 (시간복잡도: O(1))\n",
            "extend([10,30,50])   → [10, 20, 30, 40, 50, 10, 30, 50]\n",
            "   💡 여러 요소를 리스트 끝에 추가 (시간복잡도: O(k))\n",
            "insert(1, 60)        → [10, 60, 20, 30, 40, 50, 10, 30, 50]\n",
            "   💡 지정한 위치에 요소 삽입 (시간복잡도: O(n))\n",
            "\n",
            "✅ 검색 연산들\n",
            "count(10)            → 결과: 2, 리스트: [10, 60, 20, 30, 40, 50, 10, 30, 50]\n",
            "   💡 특정 값의 개수 반환 (시간복잡도: O(n))\n",
            "index(30)            → 결과: 3, 리스트: [10, 60, 20, 30, 40, 50, 10, 30, 50]\n",
            "   💡 특정 값의 첫 번째 인덱스 반환 (시간복잡도: O(n))\n",
            "\n",
            "✅ 요소 제거 연산들\n",
            "pop(2)               → 제거된 값: 20, 리스트: [10, 60, 30, 40, 50, 10, 30, 50]\n",
            "   💡 지정한 인덱스의 요소 제거 후 반환 (시간복잡도: O(n))\n",
            "pop()                → 제거된 값: 50, 리스트: [10, 60, 30, 40, 50, 10, 30]\n",
            "   💡 마지막 요소 제거 후 반환 (시간복잡도: O(1))\n",
            "remove(30)           → [10, 60, 40, 50, 10, 30]\n",
            "   💡 첫 번째로 발견되는 특정 값 제거 (시간복잡도: O(n))\n",
            "\n",
            "✅ 리스트 조작 연산들\n",
            "reverse()            → [30, 10, 50, 40, 60, 10]\n",
            "   💡 리스트 순서를 뒤집음 (시간복잡도: O(n))\n",
            "   📋 원본: [10, 60, 40, 50, 10, 30] → 뒤집힌 결과: [30, 10, 50, 40, 60, 10]\n",
            "sort()               → [10, 10, 30, 40, 50, 60]\n",
            "   💡 리스트를 오름차순으로 정렬 (시간복잡도: O(n log n))\n",
            "\n",
            "✅ 최종 상태 정보\n",
            "최종 리스트: [10, 10, 30, 40, 50, 60]\n",
            "리스트 길이: 6\n",
            "리스트가 비어있는가: False\n"
          ]
        }
      ]
    },
    {
      "cell_type": "markdown",
      "source": [
        "### @연결 리스트의 종류\n",
        "* 단순 연결 리스트(Singly Linked List)\n",
        "  - 꼬리 노드의 링크가 None\n",
        "* 이중 연결 리스트(Doubly Linked List)\n",
        "  - 이전 노드(previous), 다음 노드(next)를 가리킴\n",
        "* 원형 연결 리스트(Circular Linked List)\n",
        "  - 꼬리 노드의 링크가 머리 노드를 가리킴"
      ],
      "metadata": {
        "id": "5FlD592vmqBx"
      }
    },
    {
      "cell_type": "markdown",
      "source": [
        "\n",
        "\n",
        "---\n",
        "\n"
      ],
      "metadata": {
        "id": "yqbqDMQOmsD3"
      }
    },
    {
      "cell_type": "markdown",
      "source": [
        "## 단순 연결 리스트(Singly Linked List)\n"
      ],
      "metadata": {
        "id": "mnu2J2-cnuds"
      }
    },
    {
      "cell_type": "markdown",
      "source": [
        "1.노드 클래스 정의하기"
      ],
      "metadata": {
        "id": "2Vr8ItDtpGcq"
      }
    },
    {
      "cell_type": "code",
      "source": [
        "# 단순 연결 구조를 위한 Node 클래스\n",
        "class Node:                             # 단순 연결 구조를 위한 노드 클래스\n",
        "    def __init__ (self, e, next=None):\n",
        "        self.data = e\n",
        "        self.link = next\n",
        "\n",
        "    # append(node) 연산\n",
        "    def append (self, node):            # 현재 노드(self) 다음에 node를 넣는 연산\n",
        "        if node is not None :           # node가 None이 아니면\n",
        "            node.link = self.link       # node의 link에 self 다음 노드를 연결\n",
        "        self.link = node                # 이제 다음 노드는 node가 됨\n",
        "\n",
        "    # popNext() 연산\n",
        "    def popNext (self):                 # 현재 노드(self)의 다음 노드를 삭제하는 연산\n",
        "        next = self.link                # 현재 노드(self)의 다음 노드\n",
        "        if next is not None :           # next가 None이 아니면\n",
        "            self.link = next.link       # self의 다음 노드는 next.link\n",
        "        return next                     # 다음 노드를 반환"
      ],
      "metadata": {
        "id": "OlddJwJwoVWw"
      },
      "execution_count": null,
      "outputs": []
    },
    {
      "cell_type": "markdown",
      "source": [
        "2. 리스트 클래스 정의하기"
      ],
      "metadata": {
        "id": "PQkgfqZ7pQVt"
      }
    },
    {
      "cell_type": "code",
      "source": [
        "class SinglyLinkedList:                       # 단순연결리스트 클래스\n",
        "    def __init__( self ):               # 생성자\n",
        "        self.head = None                # head 선언 및 None으로 초기화\n",
        "\n",
        "    # 연산: 포화, 공백 상태 검사\n",
        "    def isEmpty( self ):                # 공백상태 검사\n",
        "                                        # head가 None이면 공백\n",
        "\n",
        "    def isFull( self ):                 # 포화상태 검사\n",
        "                                        # 연결된 구조에서는 포화상태 없음\n",
        "\n",
        "    def clear( self ) :\n",
        "                                        # head가 None이면\n",
        "\n",
        "    # 연산: getNode(pos)\n",
        "    def getNode(self, pos) :\n",
        "\n",
        "\n",
        "    # 연산: getEntry(pos)\n",
        "    def getEntry(self, pos) :\n",
        "\n",
        "\n",
        "    def replace(self, pos, elem) :\n",
        "\n",
        "\n",
        "    def find(self, val) :\n",
        "\n",
        "\n",
        "    # 연산: 삽입 연산 insert(pos, e)\n",
        "    def insert(self, pos, elem) :\n",
        "\n",
        "\n",
        "    # 연산: 삭제 연산 delete(pos)\n",
        "    def delete(self, pos) :\n",
        "\n",
        "\n",
        "    # 연산: 전체 요소의 수 size()\n",
        "    def size( self ) :\n",
        "\n",
        "\n",
        "    # 화면 출력 display( )\n",
        "    def display(self, msg='SinglyLinkedList:' ):\n",
        "        print(msg, end='')\n",
        "        ptr = self.head\n",
        "        while ptr is not None :\n",
        "            print(ptr.data, end='->')\n",
        "            ptr = ptr.link\n",
        "        print('None')"
      ],
      "metadata": {
        "id": "ZW3J8dQ7pQjD"
      },
      "execution_count": null,
      "outputs": []
    },
    {
      "cell_type": "markdown",
      "source": [
        "### [실습] 단순 연결 리스트 vs 파이썬 리스트 비교"
      ],
      "metadata": {
        "id": "Ot--Z_8LpzJO"
      }
    },
    {
      "cell_type": "code",
      "source": [
        "# 1.단순연결리스트(SinglyLinkedList) 사용\n",
        "s = SinglyLinkedList()\n",
        "s.display('연결리스트( 초기 ): ')\n",
        "s.insert(0, 10)\n",
        "s.insert(0, 20)\n",
        "s.insert(1, 30)\n",
        "s.insert(s.size(), 40)\n",
        "s.insert(2, 50)\n",
        "s.display(\"연결리스트(삽입x5): \")\n",
        "s.replace(2, 90)\n",
        "s.display(\"연결리스트(교체x1): \")\n",
        "s.delete(2)\n",
        "s.delete(3)\n",
        "s.delete(0)\n",
        "s.display(\"연결리스트(삭제x3): \")"
      ],
      "metadata": {
        "id": "KB3xBKwwp54P"
      },
      "execution_count": null,
      "outputs": []
    },
    {
      "cell_type": "code",
      "source": [
        "# 2.파이썬의 리스트 사용\n",
        "l = [] # list()\n",
        "\n"
      ],
      "metadata": {
        "id": "tC7NZwHSqsFq"
      },
      "execution_count": null,
      "outputs": []
    },
    {
      "cell_type": "markdown",
      "source": [
        "\n",
        "\n",
        "---\n",
        "\n"
      ],
      "metadata": {
        "id": "m32tzTCXoNt0"
      }
    },
    {
      "cell_type": "markdown",
      "source": [
        "## 이중 연결 리스트(Doubly Linked List)\n"
      ],
      "metadata": {
        "id": "7wRtm-J0n7Fs"
      }
    },
    {
      "cell_type": "markdown",
      "source": [
        "1. 노드 클래스 정의하기"
      ],
      "metadata": {
        "id": "1lnhBEZErUat"
      }
    },
    {
      "cell_type": "code",
      "source": [
        "#이중 연결 구조를 위한 DNode 클래스 정의\n",
        "class DNode:                            # 이중 연결 노드 클래스\n",
        "    def __init__ (self, elem, prev=None, next=None):\n",
        "        self.data = elem                # 노드의 데이터 필드(요소)\n",
        "        self.next = next                # 다음노드를 위한 링크\n",
        "        self.prev = prev                # 이전노드를 위한 링크(추가됨)\n",
        "\n",
        "    # 코드 3.4b: DNode의 append(node) 연산\n",
        "    def append (self, node):            # self 다음에 node를 넣는 연산\n",
        "        if node is not None :           # node가 None이 아니면\n",
        "            node.next = self.next       # 1)\n",
        "            node.prev = self            # 2)\n",
        "            if node.next is not None:   # 3) self의 다음노드가 있으면\n",
        "                node.next.prev = node   #    그 노드의 이전노드는 node\n",
        "        self.next = node                # 4)\n",
        "\n",
        "    # 코드 3.4 c: DNode의 popNext( ) 연산\n",
        "    def popNext (self):                 # self 다음노드 삭제 연산\n",
        "        node = self.next                # 삭제할 노드\n",
        "        if node is not None :           # next가 None이 아니면\n",
        "            self.next = node.next       # 1)\n",
        "            if self.next is not None:   # 2) 다음 노드가 있으면\n",
        "                self.next.prev = self   # 그 노드의 이전노드는 self\n",
        "        return node                     # 다음 노드를 반환"
      ],
      "metadata": {
        "id": "vRiKtnBdrcCy"
      },
      "execution_count": null,
      "outputs": []
    },
    {
      "cell_type": "markdown",
      "source": [
        "2. 리스트 클래스 정의하기"
      ],
      "metadata": {
        "id": "LTI5b1VRrVD_"
      }
    },
    {
      "cell_type": "code",
      "source": [
        "#이중 연결 리스트 클래스 정의와 생성자\n",
        "class DblLinkedList:                    # 이중연결리스트 클래스\n",
        "    def __init__( self ):               # 생성자\n",
        "        self.head = None                # head 선언 및 None으로 초기화\n",
        "\n",
        "    def isEmpty( self ):                # 공백상태 검사\n",
        "       return self.head == None         # head가 None이면 공백\n",
        "\n",
        "    def isFull( self ):                 # 포화상태 검사\n",
        "       return False                     # 연결된 구조에서는 포화상태 없음\n",
        "\n",
        "    def clear( self ) : self.head = None\n",
        "    def size( self ) :\n",
        "        ptr = self.head                 # ptr은 머리노드에서 시작함\n",
        "        count = 0;                      # 맨 처음에 count는 0\n",
        "        while ptr is not None :         # ptr이 None이 아닌 동안\n",
        "            ptr = ptr.next              # 링크를 따라 ptr 이동\n",
        "            count += 1                  # 이동할 때 마다 count 증가\n",
        "        return count                    # count 반환\n",
        "\n",
        "    # 코드 3.5b: DblLinkedList 연산: 화면 출력 display( )\n",
        "    def display(self, msg='DblLinkedList:' ):  # 기본 msg 내용을 수정\n",
        "        print(msg, end='')\n",
        "        ptr = self.head\n",
        "        while ptr is not None :\n",
        "            print(ptr.data, end='<=>')         # 이중연결은 <=>로 표시\n",
        "            ptr = ptr.next                     # 다음노드로 이동. next\n",
        "        print('None')\n",
        "\n",
        "\n",
        "    def getNode(self, pos) :\n",
        "        if pos < 0 : return None        # 잘못된 위치 -> None 반환\n",
        "        ptr = self.head                 # 시작 위치 -> head\n",
        "        for i in range(pos):          # pos-1번 링크를 따라 이동\n",
        "            if ptr == None :            # pos가 리스트 크기보다 큰 경우\n",
        "               return None              # None 반환\n",
        "            ptr = ptr.next              # ptr을 진행시킴\n",
        "        return ptr                      # 최종 노드를 반환\n",
        "\n",
        "    def getEntry(self, pos) :\n",
        "        node = self.getNode(pos)        # pos번째 노드를 구함\n",
        "        if node == None : return None   # 해당 노드가 없는 경우\n",
        "        else : return node.data         # 있는 경우 데이터 필드 반환\n",
        "\n",
        "    def replace(self, pos, elem) :\n",
        "        node = self.getNode(pos)\n",
        "        if node != None : node.data = elem\n",
        "\n",
        "    def find(self, val) :\n",
        "        node = self.head;\n",
        "        while node is not None:\n",
        "            if node.data == val : return node\n",
        "            node = node.next\n",
        "        return node\n",
        "\n",
        "    # 코드 3.5c: DblLinkedList 연산: 삽입 연산\n",
        "    def insert(self, pos, elem) :\n",
        "        node = DNode(elem)            # DNode를 만들어야 함\n",
        "        before = self.getNode(pos-1)  # 삽입할 위치 이전 노드 탐색\n",
        "        if before == None :           # 머리 노드로 삽입하는 경우\n",
        "            node.next = self.head     # node의 링크가 머리노드를 가리킴\n",
        "            if node.next is not None: # node 다음 노드가 있으면\n",
        "                node.next.prev = node # 그 노드의 이전노드는 node\n",
        "            self.head = node          # 이제 node가 머리노드가 됨\n",
        "        else : before.append(node)    # 아닌 경우: before 다음에 추가\n",
        "\n",
        "\n",
        "    # 코드 3.5d: DblLinkedList 연산: 삭제 연산\n",
        "    def delete(self, pos) :\n",
        "        before = self.getNode(pos-1)       # 삭제할 위치 이전 노드 탐색\n",
        "        if before == None :                 # 머리노드 삭제 경우\n",
        "            if self.head is not None :      # 공백 상태가 아니면\n",
        "                self.head = self.head.next  # 머리노드를 갱신\n",
        "                self.head.prev = None       # 머리노드는 이전노드 없음\n",
        "        else: before.popNext()              # before의 다음노드 삭제"
      ],
      "metadata": {
        "id": "Wj-9lf4Jrcb6"
      },
      "execution_count": null,
      "outputs": []
    },
    {
      "cell_type": "markdown",
      "source": [
        "### [실습] 이중 연결 리스트 vs 파이썬 리스트 비교"
      ],
      "metadata": {
        "id": "E9IZAJ9Zrz33"
      }
    },
    {
      "cell_type": "code",
      "source": [
        "# 1.이중연결리스트(DblLinkedList) 사용\n"
      ],
      "metadata": {
        "id": "nFKEUQBKr3mJ"
      },
      "execution_count": null,
      "outputs": []
    },
    {
      "cell_type": "code",
      "source": [
        "# 2.파이썬의 리스트 사용\n",
        "dl = []\n"
      ],
      "metadata": {
        "id": "MCIBJZ-3r5gO"
      },
      "execution_count": null,
      "outputs": []
    },
    {
      "cell_type": "markdown",
      "source": [
        "\n",
        "\n",
        "---\n",
        "\n"
      ],
      "metadata": {
        "id": "3pUpUAJdoOxG"
      }
    },
    {
      "cell_type": "markdown",
      "source": [
        "### [실습] 음악 목록 관리 프로그램\n",
        "* 이중 연결 구조 리스트 사용하여 음악 재생 목록 관리 프로그램을 만들기\n",
        "* 클래스명 : **MusicPlaylist**\n",
        "* 필요한 연산\n",
        "  - 곡 추가 : add_song(song)\n",
        "  - 곡 삭제 : remove_song(song)\n",
        "  - 곡 목록 출력 : show_playlist()"
      ],
      "metadata": {
        "id": "aiXcW8a8xjuT"
      }
    },
    {
      "cell_type": "code",
      "source": [
        "\n",
        "\n",
        "\n",
        "\n",
        "\n"
      ],
      "metadata": {
        "id": "7OgRMkmlxg1n"
      },
      "execution_count": null,
      "outputs": []
    },
    {
      "cell_type": "code",
      "source": [
        "# 사용 예시\n",
        "playlist = MusicPlaylist()\n",
        "\n",
        "playlist.add_song(\"Butter\")\n",
        "playlist.add_song(\"Permission to Dance\")\n",
        "playlist.add_song(\"Life Goes On\")\n",
        "playlist.show_playlist()\n",
        "playlist.remove_song(\"Permission to Dance\")\n",
        "playlist.show_playlist()\n",
        "playlist.remove_song(\"Dynamite\")"
      ],
      "metadata": {
        "id": "_GrdnVlHyLyD"
      },
      "execution_count": null,
      "outputs": []
    },
    {
      "cell_type": "markdown",
      "source": [
        "\n",
        "\n",
        "---\n",
        "\n"
      ],
      "metadata": {
        "id": "CksjYs6_oP3o"
      }
    }
  ]
}